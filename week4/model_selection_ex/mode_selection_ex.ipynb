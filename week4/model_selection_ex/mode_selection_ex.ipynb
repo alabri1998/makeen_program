{
 "cells": [
  {
   "cell_type": "code",
   "execution_count": 2,
   "id": "d330c236",
   "metadata": {},
   "outputs": [
    {
     "name": "stdout",
     "output_type": "stream",
     "text": [
      "Mean Squared Error (MSE): 6350000.0\n"
     ]
    }
   ],
   "source": [
    "# Calculate the mean squared error (MSE) of the model\n",
    "import numpy as np\n",
    "\n",
    "# Given data\n",
    "sizes = [1000, 1500, 2000, 2500, 3000]\n",
    "actual_prices = [15000, 25000, 35000, 45000, 55000]\n",
    "predicted_prices = [14500, 26500, 33000, 44500, 60000]\n",
    "\n",
    "# Calculate MSE\n",
    "mse = np.mean((np.array(predicted_prices) - np.array(actual_prices))**2)\n",
    "print(\"Mean Squared Error (MSE):\", mse)"
   ]
  },
  {
   "cell_type": "code",
   "execution_count": 6,
   "id": "a22e19ca",
   "metadata": {},
   "outputs": [
    {
     "name": "stdout",
     "output_type": "stream",
     "text": [
      "Accuracy: 100.00%\n",
      "Error Rate: 0.00%\n"
     ]
    }
   ],
   "source": [
    "#Calculate the accuracy and error rate of the model\n",
    "# Define acceptable error margin\n",
    "acceptable_error_margin = 0.1\n",
    "\n",
    "# Initialize counters for correct and incorrect predictions\n",
    "correct_predictions = 0\n",
    "incorrect_predictions = 0\n",
    "\n",
    "# Calculate accuracy and error rate\n",
    "for actual_price, predicted_price in zip(actual_prices, predicted_prices):\n",
    "    if abs(predicted_price - actual_price) <= acceptable_error_margin * actual_price:\n",
    "        correct_predictions += 1\n",
    "    else:\n",
    "        incorrect_predictions += 1\n",
    "\n",
    "total_predictions = len(actual_prices)\n",
    "\n",
    "accuracy = (correct_predictions / total_predictions) * 100\n",
    "error_rate = (incorrect_predictions / total_predictions) * 100\n",
    "\n",
    "print(\"Accuracy: {:.2f}%\".format(accuracy))\n",
    "print(\"Error Rate: {:.2f}%\".format(error_rate))\n"
   ]
  },
  {
   "cell_type": "code",
   "execution_count": null,
   "id": "139062df",
   "metadata": {},
   "outputs": [],
   "source": []
  }
 ],
 "metadata": {
  "kernelspec": {
   "display_name": "Python 3 (ipykernel)",
   "language": "python",
   "name": "python3"
  },
  "language_info": {
   "codemirror_mode": {
    "name": "ipython",
    "version": 3
   },
   "file_extension": ".py",
   "mimetype": "text/x-python",
   "name": "python",
   "nbconvert_exporter": "python",
   "pygments_lexer": "ipython3",
   "version": "3.7.1"
  }
 },
 "nbformat": 4,
 "nbformat_minor": 5
}
