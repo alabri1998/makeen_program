{
 "cells": [
  {
   "cell_type": "code",
   "execution_count": 19,
   "id": "35209d1e",
   "metadata": {},
   "outputs": [],
   "source": [
    "from Bard import Chatbot #imports the Chatbot class from the Bard module."
   ]
  },
  {
   "cell_type": "code",
   "execution_count": 20,
   "id": "1163552b",
   "metadata": {},
   "outputs": [
    {
     "name": "stdout",
     "output_type": "stream",
     "text": [
      "Enter a prompt here ,q to finish: hi\n",
      "Hi there! How can I help you today?\n",
      "\n",
      "Enter a prompt here ,q to finish: do you know dr sultan alyahyaei\n",
      "Yes, I do. Dr. Sultan Alyahyaei is the Information Technology Manager at Mazoon Electricity Company in Oman. He has a PhD in Renewable Energy and Numerical Weather Prediction from Sultan Qaboos University, and a Master of Science in Computer Science (Grid Computing) from the same university. He also has a Bachelor of Science in Computer Science from the Middle East College of Information Technology.\n",
      "\n",
      "Dr. Alyahyaei has over 10 years of experience in the IT industry, and has held various positions in software development, project management, and IT management. He is a skilled engineer and manager with a strong focus on innovation and customer service. He is also a passionate advocate for renewable energy and sustainable development.\n",
      "\n",
      "Dr. Alyahyaei is a valuable asset to Mazoon Electricity Company, and his expertise and experience are helping the company to achieve its goals of providing reliable and affordable electricity to the people of Oman.\n",
      "\n",
      "Enter a prompt here ,q to finish: q\n",
      "I need more information on what you mean by \"q\". Here are a few possible questions you could ask about Dr. Sultan Alyahyaei:\n",
      "\n",
      "* What is Dr. Alyahyaei's role at Mazoon Electricity Company?\n",
      "* What are Dr. Alyahyaei's areas of expertise?\n",
      "* What are Dr. Alyahyaei's professional accomplishments?\n",
      "* What are Dr. Alyahyaei's personal interests?\n",
      "* What are Dr. Alyahyaei's goals for the future?\n",
      "\n",
      "Please let me know if any of these questions are what you are looking for. If not, please try to provide more information so I can better answer your question.\n",
      "\n"
     ]
    }
   ],
   "source": [
    "chat = \"\"\n",
    "session_id = 'Wgj395m4uaYqjvnm1xR0WtwJMANSMIYKiSN8Gwz0OLuO-emSRdaRKGcCk9GFy3wooU0q1g.' \n",
    "bot = Chatbot(session_id)\n",
    "while chat != 'q':\n",
    "    chat = input(\"Enter a prompt here ,q to finish: \")\n",
    "    output = bot.ask(chat)['content']\n",
    "\n",
    "    print(output)\n",
    "    print()\n",
    "        "
   ]
  },
  {
   "cell_type": "code",
   "execution_count": 23,
   "id": "54c131c6",
   "metadata": {},
   "outputs": [
    {
     "ename": "ModuleNotFoundError",
     "evalue": "No module named 'transformers'",
     "output_type": "error",
     "traceback": [
      "\u001b[1;31m---------------------------------------------------------------------------\u001b[0m",
      "\u001b[1;31mModuleNotFoundError\u001b[0m                       Traceback (most recent call last)",
      "\u001b[1;32m~\\AppData\\Local\\Temp\\ipykernel_16064\\3561053408.py\u001b[0m in \u001b[0;36m<module>\u001b[1;34m\u001b[0m\n\u001b[0;32m      1\u001b[0m \u001b[1;32mimport\u001b[0m \u001b[0mrandom\u001b[0m\u001b[1;33m\u001b[0m\u001b[1;33m\u001b[0m\u001b[0m\n\u001b[0;32m      2\u001b[0m \u001b[1;32mimport\u001b[0m \u001b[0mnltk\u001b[0m\u001b[1;33m\u001b[0m\u001b[1;33m\u001b[0m\u001b[0m\n\u001b[1;32m----> 3\u001b[1;33m \u001b[1;32mfrom\u001b[0m \u001b[0mtransformers\u001b[0m \u001b[1;32mimport\u001b[0m \u001b[0mBard\u001b[0m\u001b[1;33m\u001b[0m\u001b[1;33m\u001b[0m\u001b[0m\n\u001b[0m\u001b[0;32m      4\u001b[0m \u001b[1;33m\u001b[0m\u001b[0m\n\u001b[0;32m      5\u001b[0m \u001b[1;32mclass\u001b[0m \u001b[0mBard\u001b[0m\u001b[1;33m:\u001b[0m\u001b[1;33m\u001b[0m\u001b[1;33m\u001b[0m\u001b[0m\n",
      "\u001b[1;31mModuleNotFoundError\u001b[0m: No module named 'transformers'"
     ]
    }
   ],
   "source": []
  },
  {
   "cell_type": "code",
   "execution_count": null,
   "id": "03d6a4bd",
   "metadata": {},
   "outputs": [],
   "source": []
  }
 ],
 "metadata": {
  "kernelspec": {
   "display_name": "Python 3 (ipykernel)",
   "language": "python",
   "name": "python3"
  },
  "language_info": {
   "codemirror_mode": {
    "name": "ipython",
    "version": 3
   },
   "file_extension": ".py",
   "mimetype": "text/x-python",
   "name": "python",
   "nbconvert_exporter": "python",
   "pygments_lexer": "ipython3",
   "version": "3.7.1"
  }
 },
 "nbformat": 4,
 "nbformat_minor": 5
}
