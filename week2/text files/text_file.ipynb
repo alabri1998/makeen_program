{
 "cells": [
  {
   "cell_type": "code",
   "execution_count": 70,
   "id": "ec68a01c",
   "metadata": {},
   "outputs": [
    {
     "name": "stdout",
     "output_type": "stream",
     "text": [
      "995.0 khalid\n"
     ]
    }
   ],
   "source": [
    "infile = open(\"n_s.txt\",\"r\")\n",
    "linee=[]\n",
    "for line in infile:\n",
    "    line = line.strip()\n",
    "    data = line.split()\n",
    "    linee.append(data)\n",
    "#print(linee)\n",
    "m = max(linee)\n",
    "print(m[0],m[1])"
   ]
  },
  {
   "cell_type": "code",
   "execution_count": 59,
   "id": "b7a1c62a",
   "metadata": {},
   "outputs": [
    {
     "name": "stdout",
     "output_type": "stream",
     "text": [
      "20\n",
      "81\n"
     ]
    }
   ],
   "source": [
    "infile = open(\"distance.txt\",\"r\")\n",
    "for line in infile:\n",
    "    line = line.strip()\n",
    "    data = line.split()\n",
    "    print(int(data[0])*int(data[1]))"
   ]
  },
  {
   "cell_type": "code",
   "execution_count": 119,
   "id": "7de62bea",
   "metadata": {},
   "outputs": [
    {
     "name": "stdout",
     "output_type": "stream",
     "text": [
      "4\n"
     ]
    }
   ],
   "source": [
    "infile = open(\"highest_rep.txt\",\"r\")\n",
    "nums_of_items = infile.readline()\n",
    "i = 0\n",
    "count=0\n",
    "max_similar = []\n",
    "for line in infile:\n",
    "    line = line.strip()\n",
    "    data = line.split()\n",
    "L_to_int = []\n",
    "for i in data:\n",
    "    L_to_int.append(int(i))\n",
    "my_dict = {i:L_to_int.count(i) for i in L_to_int}\n",
    "\n",
    "for key in my_dict:\n",
    "    if my_dict[key] == 3:\n",
    "        print(key)"
   ]
  },
  {
   "cell_type": "code",
   "execution_count": 123,
   "id": "6c842f90",
   "metadata": {},
   "outputs": [
    {
     "name": "stdout",
     "output_type": "stream",
     "text": [
      "No\n",
      "Yes\n"
     ]
    }
   ],
   "source": [
    "infile = open(\"memory.txt\",\"r\")\n",
    "for line in infile:\n",
    "    line = line.strip()\n",
    "    data = line.split()\n",
    "    if int(data[1]) * int(data[2]) < int(data[0]):\n",
    "        print(\"Yes\")\n",
    "    else:\n",
    "        print(\"No\")"
   ]
  },
  {
   "cell_type": "code",
   "execution_count": 151,
   "id": "39293ae4",
   "metadata": {},
   "outputs": [
    {
     "name": "stdout",
     "output_type": "stream",
     "text": [
      "3\n",
      "1\n",
      "5\n"
     ]
    }
   ],
   "source": [
    "def mainFunction(number):\n",
    "    divisors = []\n",
    "    for i in range(1, number+1):\n",
    "        if number % i == 0:\n",
    "            divisors.append(i)\n",
    "    return divisors\n",
    "infile = open(\"common_divisor\",\"r\")\n",
    "divisors = []\n",
    "for line in infile:\n",
    "    line = line.strip()\n",
    "    data = line.split()\n",
    "    num1 = int(data[0])\n",
    "    num2 = int(data[1])\n",
    "    num1_divisors = mainFunction(num1)\n",
    "    num2_divisors = mainFunction(num2)\n",
    "    num1_divisors = set(num1_divisors)\n",
    "    num2_divisors = set(num2_divisors)\n",
    "    common_divisors = num1_divisors.intersection(num2_divisors)\n",
    "    print(max(common_divisors))"
   ]
  },
  {
   "cell_type": "code",
   "execution_count": null,
   "id": "69d57125",
   "metadata": {},
   "outputs": [],
   "source": []
  }
 ],
 "metadata": {
  "kernelspec": {
   "display_name": "Python 3 (ipykernel)",
   "language": "python",
   "name": "python3"
  },
  "language_info": {
   "codemirror_mode": {
    "name": "ipython",
    "version": 3
   },
   "file_extension": ".py",
   "mimetype": "text/x-python",
   "name": "python",
   "nbconvert_exporter": "python",
   "pygments_lexer": "ipython3",
   "version": "3.9.13"
  }
 },
 "nbformat": 4,
 "nbformat_minor": 5
}
