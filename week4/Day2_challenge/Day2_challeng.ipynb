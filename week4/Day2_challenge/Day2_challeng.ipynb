{
 "cells": [
  {
   "cell_type": "code",
   "execution_count": 3,
   "id": "9ccfe507",
   "metadata": {},
   "outputs": [
    {
     "name": "stdout",
     "output_type": "stream",
     "text": [
      "[3, 6, 9, 12, 15, 18, 21]\n",
      "[10, 20, 30, 40]\n"
     ]
    }
   ],
   "source": [
    "def multiplies(num,length):\n",
    "    l=[]\n",
    "    for i in range(1,length+1):\n",
    "        l.append(i*num)\n",
    "    return l\n",
    "print(multiplies(3,7))\n",
    "print(multiplies(10,4))"
   ]
  },
  {
   "cell_type": "code",
   "execution_count": null,
   "id": "f6f3c880",
   "metadata": {},
   "outputs": [],
   "source": []
  }
 ],
 "metadata": {
  "kernelspec": {
   "display_name": "Python 3 (ipykernel)",
   "language": "python",
   "name": "python3"
  },
  "language_info": {
   "codemirror_mode": {
    "name": "ipython",
    "version": 3
   },
   "file_extension": ".py",
   "mimetype": "text/x-python",
   "name": "python",
   "nbconvert_exporter": "python",
   "pygments_lexer": "ipython3",
   "version": "3.7.1"
  }
 },
 "nbformat": 4,
 "nbformat_minor": 5
}
