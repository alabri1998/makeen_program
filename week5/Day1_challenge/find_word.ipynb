{
 "cells": [
  {
   "cell_type": "code",
   "execution_count": 9,
   "id": "838546f0",
   "metadata": {},
   "outputs": [
    {
     "name": "stdout",
     "output_type": "stream",
     "text": [
      "Enter sentence: Hello Ahmed to CodeAcademy\n",
      "found Code Academy at 4\n"
     ]
    }
   ],
   "source": [
    "\n",
    "def find_codeAcademy(sentence,sub):\n",
    "    if sub in sentence:\n",
    "        where_found = sentence.index(sub) + 1\n",
    "        print(\"found Code Academy at\" , where_found)\n",
    "    else:\n",
    "        print(\"CodeAcademy not found\")\n",
    "        \n",
    "sentence = input(\"Enter sentence: \").split(\" \")\n",
    "sub=\"CodeAcademy\"        \n",
    "find_codeAcademy(sentence,sub)  "
   ]
  },
  {
   "cell_type": "code",
   "execution_count": null,
   "id": "64cc7c41",
   "metadata": {},
   "outputs": [],
   "source": []
  }
 ],
 "metadata": {
  "kernelspec": {
   "display_name": "Python 3 (ipykernel)",
   "language": "python",
   "name": "python3"
  },
  "language_info": {
   "codemirror_mode": {
    "name": "ipython",
    "version": 3
   },
   "file_extension": ".py",
   "mimetype": "text/x-python",
   "name": "python",
   "nbconvert_exporter": "python",
   "pygments_lexer": "ipython3",
   "version": "3.7.1"
  }
 },
 "nbformat": 4,
 "nbformat_minor": 5
}
