{
 "cells": [
  {
   "cell_type": "code",
   "execution_count": 19,
   "id": "01c05a49",
   "metadata": {},
   "outputs": [
    {
     "name": "stdout",
     "output_type": "stream",
     "text": [
      "Enter a string to be reversedahmed\n",
      "Reversed string is demha\n"
     ]
    }
   ],
   "source": [
    "class  Stack_to_reverse  :\n",
    "    def __init__(self ):\n",
    "        self.items  =  list()\n",
    "        self.size=-1\n",
    "        \n",
    "    def  isEmpty(  self  ):\n",
    "        if(self.size==-1):\n",
    "            return True\n",
    "        else:\n",
    "            return False\n",
    "\n",
    "    def  pop(  self  ):\n",
    "        if  self.isEmpty():\n",
    "            print(\"Stack is empty\")\n",
    "        else:\n",
    "            return self.items.pop()\n",
    "            self.size-=1\n",
    "\n",
    "    def  push(  self,  item  ):\n",
    "        self.items.append(item)\n",
    "        self.size+=1\n",
    "\n",
    "    def reverse(self,string):\n",
    "        n = len(string)\n",
    "        for i in range(0,n):\n",
    "            S.push(string[i])\n",
    "\n",
    "        string=\"\"\n",
    "\n",
    "        for i in range(0,n):\n",
    "            string+=S.pop()\n",
    "        return string\n",
    "\n",
    "S=Stack_to_reverse()\n",
    "seq=input(\"Enter a string to be reversed: \")\n",
    "sequence = S.reverse(seq)\n",
    "print(\"Reversed string is \" + sequence)"
   ]
  },
  {
   "cell_type": "code",
   "execution_count": 33,
   "id": "5f4523ad",
   "metadata": {},
   "outputs": [
    {
     "name": "stdout",
     "output_type": "stream",
     "text": [
      "cb\n"
     ]
    }
   ],
   "source": [
    "ex = \"a*b-c\"\n",
    "rep=\"\"\n",
    "result=''\n",
    "op =\"\"\n",
    "stack_op=[]\n",
    "for i in range(len(ex)-1,0,-1):\n",
    "    rep+=ex[i]\n",
    "output = []\n",
    "stack_op = []\n",
    "pres = 0\n",
    "for i in rep:\n",
    "    if i.isalpha():\n",
    "        result+=i\n",
    "    elif (i == \"+\" or i == \"-\") and pres>1:\n",
    "        pres = 1\n",
    "        for operators in op:\n",
    "            stack_op.pop(operators)\n",
    "        stack_op.append(i)\n",
    "    \n",
    "print(result)\n",
    "    "
   ]
  },
  {
   "cell_type": "code",
   "execution_count": null,
   "id": "cc785b5c",
   "metadata": {},
   "outputs": [],
   "source": []
  }
 ],
 "metadata": {
  "kernelspec": {
   "display_name": "Python 3 (ipykernel)",
   "language": "python",
   "name": "python3"
  },
  "language_info": {
   "codemirror_mode": {
    "name": "ipython",
    "version": 3
   },
   "file_extension": ".py",
   "mimetype": "text/x-python",
   "name": "python",
   "nbconvert_exporter": "python",
   "pygments_lexer": "ipython3",
   "version": "3.9.13"
  }
 },
 "nbformat": 4,
 "nbformat_minor": 5
}
