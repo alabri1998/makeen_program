{
 "cells": [
  {
   "cell_type": "code",
   "execution_count": 1,
   "id": "c907c2a3",
   "metadata": {},
   "outputs": [],
   "source": [
    "# Assuming the tree and subtree are represented by nodes with value and left and right children\n",
    "class Node:\n",
    "  def __init__(self, value):\n",
    "    self.value = value\n",
    "    self.left = None\n",
    "    self.right = None\n",
    "\n",
    "class Solution:\n",
    "  def is_subtree(self, tree, subtree):\n",
    "    # Base case: if either tree or subtree is None, return False\n",
    "    if tree is None or subtree is None:\n",
    "      return False\n",
    "    # Check if the current nodes are equal and their subtrees are equal\n",
    "    if tree.value == subtree.value and self.is_equal(tree.left, subtree.left) and self.is_equal(tree.right, subtree.right):\n",
    "      return True\n",
    "    # Otherwise, recursively check if the subtree is on the left or right subtree of the tree\n",
    "    return self.is_subtree(tree.left, subtree) or self.is_subtree(tree.right, subtree)\n",
    "\n",
    "  # Helper function to check if two trees are equal\n",
    "  def is_equal(self, tree1, tree2):\n",
    "    # Base case: if both trees are None, return True\n",
    "    if tree1 is None and tree2 is None:\n",
    "      return True\n",
    "    # If one of them is None or their values are different, return False\n",
    "    if tree1 is None or tree2 is None or tree1.value != tree2.value:\n",
    "      return False\n",
    "    # Otherwise, recursively check if their left and right subtrees are equal\n",
    "    return self.is_equal(tree1.left, tree2.left) and self.is_equal(tree1.right, tree2.right)\n"
   ]
  },
  {
   "cell_type": "code",
   "execution_count": 11,
   "id": "ad14e653",
   "metadata": {},
   "outputs": [
    {
     "name": "stdout",
     "output_type": "stream",
     "text": [
      "Tree one is subtree of tree 2\n"
     ]
    }
   ],
   "source": [
    "# Create a tree and a subtree\n",
    "tree = Node(26)\n",
    "tree.left = Node(10)\n",
    "tree.right = Node(3)\n",
    "tree.left.left = Node(4)\n",
    "tree.left.right = Node(6)\n",
    "tree.left.left.right = Node(30)\n",
    "\n",
    "subtree = Node(10)\n",
    "subtree.left = Node(4)\n",
    "subtree.right = Node(6)\n",
    "subtree.left.right = Node(30)\n",
    "\n",
    "\n",
    "solution = Solution()\n",
    "\n",
    "sub = solution.is_subtree(tree, subtree) # True\n",
    "if sub == True:\n",
    "    print(\"Tree one is subtree of tree 2\")\n",
    "else:\n",
    "    print(\"Tree one is not subtree of tree 2\")\n",
    "\n",
    "\n"
   ]
  },
  {
   "cell_type": "code",
   "execution_count": null,
   "id": "191671e9",
   "metadata": {},
   "outputs": [],
   "source": []
  },
  {
   "cell_type": "code",
   "execution_count": null,
   "id": "ffc4d452",
   "metadata": {},
   "outputs": [],
   "source": []
  }
 ],
 "metadata": {
  "kernelspec": {
   "display_name": "Python 3 (ipykernel)",
   "language": "python",
   "name": "python3"
  },
  "language_info": {
   "codemirror_mode": {
    "name": "ipython",
    "version": 3
   },
   "file_extension": ".py",
   "mimetype": "text/x-python",
   "name": "python",
   "nbconvert_exporter": "python",
   "pygments_lexer": "ipython3",
   "version": "3.7.1"
  }
 },
 "nbformat": 4,
 "nbformat_minor": 5
}
