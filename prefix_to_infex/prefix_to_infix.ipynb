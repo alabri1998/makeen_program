{
 "cells": [
  {
   "cell_type": "code",
   "execution_count": 2,
   "id": "2dcfb7c6",
   "metadata": {},
   "outputs": [
    {
     "name": "stdout",
     "output_type": "stream",
     "text": [
      "((A+B)*(C/D))\n"
     ]
    }
   ],
   "source": [
    "def prefix_to_infix(expr):\n",
    "  stack = []\n",
    "  for i in range(len(expr)-1, -1, -1):\n",
    "    symbol = expr[i]\n",
    "    if symbol in \"+-*/^\":\n",
    "      op1 = stack.pop()\n",
    "      op2 = stack.pop()\n",
    "      temp = \"(\" + op1 + symbol + op2 + \")\"\n",
    "      stack.append(temp)\n",
    "    else:\n",
    "      stack.append(symbol)\n",
    "  return stack.pop()\n",
    "\n",
    "expr = \"*+AB/CD\"\n",
    "print(prefix_to_infix(expr)) \n"
   ]
  },
  {
   "cell_type": "code",
   "execution_count": null,
   "id": "379f6157",
   "metadata": {},
   "outputs": [],
   "source": []
  }
 ],
 "metadata": {
  "kernelspec": {
   "display_name": "Python 3 (ipykernel)",
   "language": "python",
   "name": "python3"
  },
  "language_info": {
   "codemirror_mode": {
    "name": "ipython",
    "version": 3
   },
   "file_extension": ".py",
   "mimetype": "text/x-python",
   "name": "python",
   "nbconvert_exporter": "python",
   "pygments_lexer": "ipython3",
   "version": "3.7.1"
  }
 },
 "nbformat": 4,
 "nbformat_minor": 5
}
