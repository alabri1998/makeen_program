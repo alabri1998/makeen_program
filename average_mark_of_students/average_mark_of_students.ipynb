{
 "cells": [
  {
   "cell_type": "code",
   "execution_count": 2,
   "id": "44ff193f",
   "metadata": {},
   "outputs": [
    {
     "name": "stdout",
     "output_type": "stream",
     "text": [
      "Enter mark: 10\n",
      "continue with another student? yes\n",
      "Enter mark: 20\n",
      "continue with another student? no\n",
      "15.0\n"
     ]
    }
   ],
   "source": [
    "\"\"\"\n",
    "here is a program that give average mark of unknown number of students\n",
    "\"\"\"\n",
    "sum_marks = 0\n",
    "count = 0\n",
    "_continue = \"yes\"\n",
    "while _continue.upper() == \"YES\":\n",
    "    mark = float(input(\"Enter mark: \"))\n",
    "    sum_marks = sum_marks + mark\n",
    "    _continue = input(\"continue with another student? \")\n",
    "    count+=1\n",
    "print(sum_marks/count)\n"
   ]
  },
  {
   "cell_type": "code",
   "execution_count": null,
   "id": "9ebf9496",
   "metadata": {},
   "outputs": [],
   "source": []
  }
 ],
 "metadata": {
  "kernelspec": {
   "display_name": "Python 3 (ipykernel)",
   "language": "python",
   "name": "python3"
  },
  "language_info": {
   "codemirror_mode": {
    "name": "ipython",
    "version": 3
   },
   "file_extension": ".py",
   "mimetype": "text/x-python",
   "name": "python",
   "nbconvert_exporter": "python",
   "pygments_lexer": "ipython3",
   "version": "3.7.1"
  }
 },
 "nbformat": 4,
 "nbformat_minor": 5
}
