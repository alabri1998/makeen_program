{
 "cells": [
  {
   "cell_type": "code",
   "execution_count": 16,
   "id": "eeffd79a",
   "metadata": {},
   "outputs": [],
   "source": [
    "import math\n",
    "\n",
    "def volume(h, r):\n",
    "    if r <= 0 or h <= 0:\n",
    "        return \n",
    "    \n",
    "    volume = (1/3) * math.pi * h**2 * r\n",
    "    return volume\n"
   ]
  },
  {
   "cell_type": "code",
   "execution_count": 17,
   "id": "a1c5f995",
   "metadata": {},
   "outputs": [
    {
     "name": "stdout",
     "output_type": "stream",
     "text": [
      "117.28612573401894\n",
      "261.79938779914943\n"
     ]
    }
   ],
   "source": [
    "\n",
    "print(volume(4, 7))\n",
    "print(volume(5, 10))"
   ]
  },
  {
   "cell_type": "code",
   "execution_count": null,
   "id": "7ab5edbf",
   "metadata": {},
   "outputs": [],
   "source": []
  }
 ],
 "metadata": {
  "kernelspec": {
   "display_name": "Python 3 (ipykernel)",
   "language": "python",
   "name": "python3"
  },
  "language_info": {
   "codemirror_mode": {
    "name": "ipython",
    "version": 3
   },
   "file_extension": ".py",
   "mimetype": "text/x-python",
   "name": "python",
   "nbconvert_exporter": "python",
   "pygments_lexer": "ipython3",
   "version": "3.7.1"
  }
 },
 "nbformat": 4,
 "nbformat_minor": 5
}
