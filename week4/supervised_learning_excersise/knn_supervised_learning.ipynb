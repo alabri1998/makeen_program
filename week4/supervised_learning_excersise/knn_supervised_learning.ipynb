{
 "cells": [
  {
   "cell_type": "code",
   "execution_count": 44,
   "id": "b1fa5672",
   "metadata": {},
   "outputs": [],
   "source": [
    "import random\n",
    "from sklearn.model_selection import train_test_split, cross_val_score\n",
    "from sklearn.neighbors import KNeighborsClassifier\n",
    "from sklearn.metrics import accuracy_score"
   ]
  },
  {
   "cell_type": "code",
   "execution_count": 45,
   "id": "0d7aea84",
   "metadata": {},
   "outputs": [
    {
     "data": {
      "text/plain": [
       "[(0.5858110392614136, 0.5112026196998415),\n",
       " (0.3110165544845933, 0.4028297034122711),\n",
       " (0.25807682597393633, 0.26890824066475516),\n",
       " (0.38038638266423863, 0.5109748581134251),\n",
       " (0.022136157566782222, 0.4910258573492772)]"
      ]
     },
     "execution_count": 45,
     "metadata": {},
     "output_type": "execute_result"
    }
   ],
   "source": [
    "\n",
    "num_points = 100\n",
    "\n",
    "x1_values = [random.random() for _ in range(num_points)]\n",
    "x2_values = [random.random() for _ in range(num_points)]\n",
    "\n",
    "dataset = list(zip(x1_values, x2_values))\n",
    "\n",
    "# Print the first few rows of the dataset\n",
    "dataset[:5]"
   ]
  },
  {
   "cell_type": "code",
   "execution_count": 46,
   "id": "14c61f66",
   "metadata": {},
   "outputs": [
    {
     "name": "stdout",
     "output_type": "stream",
     "text": [
      "Training set size: 70\n",
      "Test set size: 30\n"
     ]
    }
   ],
   "source": [
    "# Split the dataset into training and test sets\n",
    "train_set, test_set = train_test_split(dataset, test_size=0.3, random_state=42)\n",
    "\n",
    "# Print the sizes of the training and test sets\n",
    "print(\"Training set size:\", len(train_set))\n",
    "print(\"Test set size:\", len(test_set))"
   ]
  },
  {
   "cell_type": "code",
   "execution_count": 47,
   "id": "4e024f9e",
   "metadata": {},
   "outputs": [
    {
     "name": "stdout",
     "output_type": "stream",
     "text": [
      "Accuracy: 0.65\n"
     ]
    }
   ],
   "source": [
    "X = np.column_stack((x1_values, x2_values))\n",
    "\n",
    "# Generate corresponding labels (0 or 1)\n",
    "y = np.random.randint(2, size=num_points)\n",
    "# Split the dataset into training and test sets\n",
    "X_train, X_test, y_train, y_test = train_test_split(X, y, test_size=0.2, random_state=42)\n",
    "# Create a KNN classifier with k=3\n",
    "knn = KNeighborsClassifier(n_neighbors=3)\n",
    "\n",
    "# Fit the classifier to the training data\n",
    "knn.fit(X_train, y_train)\n",
    "\n",
    "# Make predictions on the test data\n",
    "y_pred = knn.predict(X_test)\n",
    "\n",
    "# Calculate the accuracy of the classifier\n",
    "accuracy = accuracy_score(y_test, y_pred)\n",
    "print(\"Accuracy:\", accuracy)"
   ]
  },
  {
   "cell_type": "code",
   "execution_count": 48,
   "id": "559d68bf",
   "metadata": {},
   "outputs": [
    {
     "name": "stdout",
     "output_type": "stream",
     "text": [
      "Optimal k: 12\n",
      "Accuracy: 0.7\n"
     ]
    }
   ],
   "source": [
    "k_values = range(1, 21)\n",
    "\n",
    "# Perform cross-validation to determine the optimal value of k\n",
    "cv_scores = []\n",
    "for k in k_values:\n",
    "    knn = KNeighborsClassifier(n_neighbors=k)\n",
    "    scores = cross_val_score(knn, X_train, y_train, cv=5)  # 5-fold cross-validation\n",
    "    cv_scores.append(scores.mean())\n",
    "\n",
    "# Find the optimal value of k with the highest cross-validation score\n",
    "optimal_k = k_values[np.argmax(cv_scores)]\n",
    "print(\"Optimal k:\", optimal_k)\n",
    "\n",
    "# Train the KNN classifier with the optimal value of k on the training data\n",
    "knn = KNeighborsClassifier(n_neighbors=optimal_k)\n",
    "knn.fit(X_train, y_train)\n",
    "\n",
    "# Make predictions on the test data\n",
    "y_pred = knn.predict(X_test)\n",
    "\n",
    "# Calculate the accuracy of the classifier\n",
    "accuracy = np.mean(y_pred == y_test)\n",
    "print(\"Accuracy:\", accuracy)"
   ]
  },
  {
   "cell_type": "code",
   "execution_count": null,
   "id": "595f8144",
   "metadata": {},
   "outputs": [],
   "source": []
  },
  {
   "cell_type": "code",
   "execution_count": null,
   "id": "5dcd8449",
   "metadata": {},
   "outputs": [],
   "source": []
  }
 ],
 "metadata": {
  "kernelspec": {
   "display_name": "Python 3 (ipykernel)",
   "language": "python",
   "name": "python3"
  },
  "language_info": {
   "codemirror_mode": {
    "name": "ipython",
    "version": 3
   },
   "file_extension": ".py",
   "mimetype": "text/x-python",
   "name": "python",
   "nbconvert_exporter": "python",
   "pygments_lexer": "ipython3",
   "version": "3.7.1"
  }
 },
 "nbformat": 4,
 "nbformat_minor": 5
}
