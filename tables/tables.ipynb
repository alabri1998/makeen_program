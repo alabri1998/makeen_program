{
 "cells": [
  {
   "cell_type": "code",
   "execution_count": 1,
   "id": "cecf8fe1",
   "metadata": {},
   "outputs": [
    {
     "name": "stdout",
     "output_type": "stream",
     "text": [
      "1 1 1 \n",
      "2 2 2 \n",
      "3 3 3 \n",
      "\n",
      "1 1 1 \n",
      "2 2 2 \n",
      "3 3 3 \n"
     ]
    }
   ],
   "source": [
    "\"\"\"\n",
    "print tables first row has 111 , second 222 , third 333\n",
    "\"\"\"\n",
    "table = []\n",
    "for i in range(1,4):\n",
    "    l = []\n",
    "    for j in range(3):\n",
    "        l.append(i+1)\n",
    "        print(i ,end=\" \")\n",
    "    print()\n",
    "print()\n",
    "l = [[i+1]*3 for i in range(3)]\n",
    "for j in range(3):\n",
    "    for k in range(3):\n",
    "        print(l[j][k], end = \" \")\n",
    "    print()"
   ]
  },
  {
   "cell_type": "code",
   "execution_count": 19,
   "id": "6da072a2",
   "metadata": {},
   "outputs": [
    {
     "name": "stdout",
     "output_type": "stream",
     "text": [
      "Enter number of rows: 2\n",
      "Enter number of colomns: 2\n",
      "Enter numbers to table: 1\n",
      "Enter numbers to table: 2\n",
      "Enter numbers to table: 3\n",
      "Enter numbers to table: 4\n",
      "\n",
      "1 2 \n",
      "3 4 \n"
     ]
    }
   ],
   "source": [
    "num_rows = int(input(\"Enter number of rows: \"))\n",
    "num_cols = int(input(\"Enter number of colomns: \"))\n",
    "table = []\n",
    "\n",
    "for i in range(1,num_rows+1):\n",
    "    in_list = []\n",
    "    for j in range(num_cols):\n",
    "        nums = int(input(\"Enter numbers to table: \"))\n",
    "        in_list.append(nums)\n",
    "    table.append(in_list)\n",
    "print()\n",
    "for i in range(num_rows):\n",
    "    for j in range(num_cols):\n",
    "        print(table[i][j] , end=\" \")\n",
    "    print()"
   ]
  },
  {
   "cell_type": "code",
   "execution_count": 37,
   "id": "a41f7b0a",
   "metadata": {},
   "outputs": [
    {
     "name": "stdout",
     "output_type": "stream",
     "text": [
      "1 0 0 0 \n",
      "2 1 0 0 \n",
      "2 2 1 0 \n",
      "2 2 2 1 \n",
      "\n",
      "1 0 0 0 \n",
      "2 1 0 0 \n",
      "2 2 1 0 \n",
      "2 2 2 1 \n"
     ]
    }
   ],
   "source": [
    "lst = [[0,0,0,0] for i in range(4)]\n",
    "for j in range(4):\n",
    "    for k in range(4):\n",
    "        if j == k:\n",
    "            lst[j][k] = 1\n",
    "        elif j > k:\n",
    "            lst[j][k] = 2\n",
    "        print(lst[j][k] ,end=\" \")\n",
    "    print()\n",
    "\n",
    "\n",
    "print()\n",
    "table = []\n",
    "for i in range(4):\n",
    "    l = []\n",
    "    for j in range(4):\n",
    "        if i == j:\n",
    "            l.append(1)\n",
    "        elif i > j:\n",
    "            l.append(2)\n",
    "        else:\n",
    "            l.append(0)\n",
    "    table.append(l)\n",
    "            \n",
    "for i in table:\n",
    "    for j in i:\n",
    "        print(j , end=\" \")\n",
    "    print()"
   ]
  },
  {
   "cell_type": "code",
   "execution_count": 52,
   "id": "6d80bc6f",
   "metadata": {},
   "outputs": [
    {
     "name": "stdout",
     "output_type": "stream",
     "text": [
      "1 0 0 0 \n",
      "0 1 0 1 \n",
      "1 0 1 0 \n",
      "0 1 0 1 \n"
     ]
    }
   ],
   "source": [
    "lst = [[0,0,0,0] for i in range(4)]\n",
    "for j in range(4):\n",
    "    for k in range(4):\n",
    "        if j == k:\n",
    "            lst[j][k] = 1\n",
    "        elif j %2 == 0 and k == 0:\n",
    "            lst[j][k] = 1\n",
    "        elif j %2 != 0 and k %2 != 0:\n",
    "            lst[j][k] = 1\n",
    "        elif (j %2 == 0 and k %2 == 0) and j != 0:\n",
    "            lst[j][k] = 1\n",
    "        print(lst[j][k] ,end=\" \")\n",
    "    print()"
   ]
  },
  {
   "cell_type": "code",
   "execution_count": 60,
   "id": "3cbd2212",
   "metadata": {},
   "outputs": [
    {
     "name": "stdout",
     "output_type": "stream",
     "text": [
      "1 0 1 0 \n",
      "0 1 0 1 \n",
      "1 0 1 0 \n",
      "0 1 0 1 \n",
      "\n",
      "\n",
      "1 0 1 0 \n",
      "0 1 0 1 \n",
      "1 0 1 0 \n",
      "0 1 0 1 \n"
     ]
    }
   ],
   "source": [
    "lst = [[0,0,0,0] for i in range(4)]\n",
    "for j in range(4):\n",
    "    for k in range(4):\n",
    "        if j == k:\n",
    "            lst[j][k] = 1\n",
    "        elif j %2 != 0 and k %2 != 0:\n",
    "            lst[j][k] = 1\n",
    "        elif j %2 == 0 and k %2 == 0:\n",
    "            lst[j][k] = 1\n",
    "        print(lst[j][k] ,end=\" \")\n",
    "    print()\n",
    "print(\"\\n\")\n",
    "# another method\n",
    "lst2 = [[0,0,0,0] for i in range(4)]\n",
    "for j in range(4):\n",
    "    for k in range(4):\n",
    "        if(j+k)%2 == 0:\n",
    "            lst2[j][k] = 1\n",
    "        print(lst2[j][k] ,end=\" \")\n",
    "    print()"
   ]
  },
  {
   "cell_type": "markdown",
   "id": "0e987d5d",
   "metadata": {},
   "source": []
  },
  {
   "cell_type": "code",
   "execution_count": null,
   "id": "b4e568f3",
   "metadata": {},
   "outputs": [],
   "source": []
  }
 ],
 "metadata": {
  "kernelspec": {
   "display_name": "Python 3 (ipykernel)",
   "language": "python",
   "name": "python3"
  },
  "language_info": {
   "codemirror_mode": {
    "name": "ipython",
    "version": 3
   },
   "file_extension": ".py",
   "mimetype": "text/x-python",
   "name": "python",
   "nbconvert_exporter": "python",
   "pygments_lexer": "ipython3",
   "version": "3.9.13"
  }
 },
 "nbformat": 4,
 "nbformat_minor": 5
}
