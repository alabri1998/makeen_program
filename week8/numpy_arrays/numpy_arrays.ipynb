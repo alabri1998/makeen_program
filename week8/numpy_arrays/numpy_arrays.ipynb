{
 "cells": [
  {
   "cell_type": "code",
   "execution_count": 1,
   "id": "fc64c2fc",
   "metadata": {},
   "outputs": [],
   "source": [
    "import numpy as np #adding numpy lib"
   ]
  },
  {
   "cell_type": "code",
   "execution_count": 3,
   "id": "6e4432f7",
   "metadata": {},
   "outputs": [],
   "source": [
    "l1 = [5,3,6,8,9] #normal list"
   ]
  },
  {
   "cell_type": "code",
   "execution_count": 5,
   "id": "fb59e397",
   "metadata": {},
   "outputs": [
    {
     "data": {
      "text/plain": [
       "array([5, 3, 6, 8, 9])"
      ]
     },
     "execution_count": 5,
     "metadata": {},
     "output_type": "execute_result"
    }
   ],
   "source": [
    "arr1 = np.array(l1) #creating 1D array from list\n",
    "arr1"
   ]
  },
  {
   "cell_type": "code",
   "execution_count": 6,
   "id": "b404e17a",
   "metadata": {},
   "outputs": [
    {
     "data": {
      "text/plain": [
       "[44, 13, 45, 64, 22]"
      ]
     },
     "execution_count": 6,
     "metadata": {},
     "output_type": "execute_result"
    }
   ],
   "source": [
    "l2 = [44,13,45,64,22]\n",
    "l2"
   ]
  },
  {
   "cell_type": "code",
   "execution_count": 7,
   "id": "f1e9920c",
   "metadata": {},
   "outputs": [
    {
     "data": {
      "text/plain": [
       "[[5, 3, 6, 8, 9], [44, 13, 45, 64, 22]]"
      ]
     },
     "execution_count": 7,
     "metadata": {},
     "output_type": "execute_result"
    }
   ],
   "source": [
    "l = [l1,l2] #combining two lists\n",
    "l"
   ]
  },
  {
   "cell_type": "code",
   "execution_count": 8,
   "id": "a1b4c7a6",
   "metadata": {},
   "outputs": [
    {
     "data": {
      "text/plain": [
       "array([[ 5,  3,  6,  8,  9],\n",
       "       [44, 13, 45, 64, 22]])"
      ]
     },
     "execution_count": 8,
     "metadata": {},
     "output_type": "execute_result"
    }
   ],
   "source": [
    "array_2D = np.array(l) #2D array\n",
    "array_2D"
   ]
  },
  {
   "cell_type": "code",
   "execution_count": 9,
   "id": "366254bf",
   "metadata": {},
   "outputs": [
    {
     "data": {
      "text/plain": [
       "(2, 5)"
      ]
     },
     "execution_count": 9,
     "metadata": {},
     "output_type": "execute_result"
    }
   ],
   "source": [
    "array_2D.shape #it contains 2 rows and five colomns"
   ]
  },
  {
   "cell_type": "code",
   "execution_count": 10,
   "id": "678b4325",
   "metadata": {},
   "outputs": [
    {
     "data": {
      "text/plain": [
       "dtype('int32')"
      ]
     },
     "execution_count": 10,
     "metadata": {},
     "output_type": "execute_result"
    }
   ],
   "source": [
    "array_2D.dtype"
   ]
  },
  {
   "cell_type": "code",
   "execution_count": 11,
   "id": "e6a77c12",
   "metadata": {},
   "outputs": [
    {
     "data": {
      "text/plain": [
       "array([0, 0, 0, 0])"
      ]
     },
     "execution_count": 11,
     "metadata": {},
     "output_type": "execute_result"
    }
   ],
   "source": [
    "np.zeros(4,'int') #Special Array (Zero), check without data type"
   ]
  },
  {
   "cell_type": "code",
   "execution_count": 12,
   "id": "8bc7be27",
   "metadata": {},
   "outputs": [
    {
     "data": {
      "text/plain": [
       "array([1., 1., 1., 1.])"
      ]
     },
     "execution_count": 12,
     "metadata": {},
     "output_type": "execute_result"
    }
   ],
   "source": [
    "np.ones(4) #Special Array (Ones), check without data type"
   ]
  },
  {
   "cell_type": "code",
   "execution_count": 13,
   "id": "dc5675bf",
   "metadata": {},
   "outputs": [
    {
     "data": {
      "text/plain": [
       "array([[1., 1., 1.],\n",
       "       [1., 1., 1.],\n",
       "       [1., 1., 1.]])"
      ]
     },
     "execution_count": 13,
     "metadata": {},
     "output_type": "execute_result"
    }
   ],
   "source": [
    "np.ones([3,3])    #2D Array with ones"
   ]
  },
  {
   "cell_type": "code",
   "execution_count": 19,
   "id": "006ec8a9",
   "metadata": {},
   "outputs": [
    {
     "data": {
      "text/plain": [
       "array([0., 0., 0., 0.])"
      ]
     },
     "execution_count": 19,
     "metadata": {},
     "output_type": "execute_result"
    }
   ],
   "source": [
    "np.zeros(4)\n",
    "np.empty(4) #Special Array (Empty)"
   ]
  },
  {
   "cell_type": "code",
   "execution_count": 20,
   "id": "9667b2f2",
   "metadata": {},
   "outputs": [
    {
     "data": {
      "text/plain": [
       "array([[1., 0., 0., 0.],\n",
       "       [0., 1., 0., 0.],\n",
       "       [0., 0., 1., 0.],\n",
       "       [0., 0., 0., 1.]])"
      ]
     },
     "execution_count": 20,
     "metadata": {},
     "output_type": "execute_result"
    }
   ],
   "source": [
    "np.eye(4) ##Special Array (Identity, nxn) Array A*I=A"
   ]
  },
  {
   "cell_type": "code",
   "execution_count": 21,
   "id": "49823e25",
   "metadata": {},
   "outputs": [
    {
     "data": {
      "text/plain": [
       "array([0, 1, 2, 3, 4, 5, 6, 7, 8])"
      ]
     },
     "execution_count": 21,
     "metadata": {},
     "output_type": "execute_result"
    }
   ],
   "source": [
    "np.arange(9)"
   ]
  },
  {
   "cell_type": "code",
   "execution_count": 22,
   "id": "c1e41d8c",
   "metadata": {},
   "outputs": [
    {
     "data": {
      "text/plain": [
       "array([ 3,  6,  9, 12, 15, 18, 21, 24, 27, 30, 33, 36, 39, 42, 45, 48, 51,\n",
       "       54, 57, 60, 63, 66, 69])"
      ]
     },
     "execution_count": 22,
     "metadata": {},
     "output_type": "execute_result"
    }
   ],
   "source": [
    "np.arange(3,70,3)"
   ]
  },
  {
   "cell_type": "code",
   "execution_count": 25,
   "id": "d70d7691",
   "metadata": {},
   "outputs": [
    {
     "data": {
      "text/plain": [
       "array([ 2., 16., 30.])"
      ]
     },
     "execution_count": 25,
     "metadata": {},
     "output_type": "execute_result"
    }
   ],
   "source": [
    "np.linspace(2, 30, 3)  #returns evenly spaced numbers over a specified between two limits."
   ]
  },
  {
   "cell_type": "code",
   "execution_count": 26,
   "id": "e914ebaa",
   "metadata": {},
   "outputs": [
    {
     "data": {
      "text/plain": [
       "array([0, 1, 2, 3, 4, 5, 6, 7, 8, 9])"
      ]
     },
     "execution_count": 26,
     "metadata": {},
     "output_type": "execute_result"
    }
   ],
   "source": [
    "l1 = [0,1,2,3,4,5,6,7,8,9]\n",
    "arr1 = np.array(l1) #creating 1D array from list 0 to 9\n",
    "arr1"
   ]
  },
  {
   "cell_type": "code",
   "execution_count": 27,
   "id": "261593c0",
   "metadata": {},
   "outputs": [
    {
     "data": {
      "text/plain": [
       "array([[0., 0., 0.],\n",
       "       [0., 0., 0.],\n",
       "       [0., 0., 0.]])"
      ]
     },
     "execution_count": 27,
     "metadata": {},
     "output_type": "execute_result"
    }
   ],
   "source": [
    "np.zeros([3,3])"
   ]
  },
  {
   "cell_type": "code",
   "execution_count": 28,
   "id": "05813076",
   "metadata": {},
   "outputs": [
    {
     "data": {
      "text/plain": [
       "array([[[1., 1., 1., 1.],\n",
       "        [1., 1., 1., 1.],\n",
       "        [1., 1., 1., 1.]],\n",
       "\n",
       "       [[1., 1., 1., 1.],\n",
       "        [1., 1., 1., 1.],\n",
       "        [1., 1., 1., 1.]]])"
      ]
     },
     "execution_count": 28,
     "metadata": {},
     "output_type": "execute_result"
    }
   ],
   "source": [
    "np.ones([2,3,4])"
   ]
  },
  {
   "cell_type": "code",
   "execution_count": 51,
   "id": "44e61171",
   "metadata": {},
   "outputs": [
    {
     "data": {
      "text/plain": [
       "array([74,  9, 78, 82, 14, 50, 20, 95,  7, 36])"
      ]
     },
     "execution_count": 51,
     "metadata": {},
     "output_type": "execute_result"
    }
   ],
   "source": [
    "integer_array = np.random.randint(0, 100, 10)\n",
    "integer_array"
   ]
  },
  {
   "cell_type": "code",
   "execution_count": 52,
   "id": "2d0a2dd8",
   "metadata": {},
   "outputs": [
    {
     "data": {
      "text/plain": [
       "array([0.16352627, 0.16055405, 0.89003088, 0.16416974, 0.95642795,\n",
       "       0.85365588, 0.70747123, 0.37449803, 0.57823834, 0.58868626])"
      ]
     },
     "execution_count": 52,
     "metadata": {},
     "output_type": "execute_result"
    }
   ],
   "source": [
    "float_array = np.random.rand(10)\n",
    "float_array"
   ]
  },
  {
   "cell_type": "code",
   "execution_count": 53,
   "id": "dd84910e",
   "metadata": {},
   "outputs": [
    {
     "data": {
      "text/plain": [
       "array([0.  , 0.25, 0.5 , 0.75, 1.  ])"
      ]
     },
     "execution_count": 53,
     "metadata": {},
     "output_type": "execute_result"
    }
   ],
   "source": [
    "np.linspace(0, 1, 5)"
   ]
  },
  {
   "cell_type": "code",
   "execution_count": null,
   "id": "a29348c7",
   "metadata": {},
   "outputs": [],
   "source": []
  }
 ],
 "metadata": {
  "kernelspec": {
   "display_name": "Python 3 (ipykernel)",
   "language": "python",
   "name": "python3"
  },
  "language_info": {
   "codemirror_mode": {
    "name": "ipython",
    "version": 3
   },
   "file_extension": ".py",
   "mimetype": "text/x-python",
   "name": "python",
   "nbconvert_exporter": "python",
   "pygments_lexer": "ipython3",
   "version": "3.9.13"
  }
 },
 "nbformat": 4,
 "nbformat_minor": 5
}
