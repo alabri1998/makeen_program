{
 "cells": [
  {
   "cell_type": "code",
   "execution_count": 5,
   "id": "69cd621a",
   "metadata": {},
   "outputs": [
    {
     "name": "stdout",
     "output_type": "stream",
     "text": [
      "Mean Squared Error (MSE): 0.0\n",
      "Predicted Shoe Sizes: [12. 13.]\n"
     ]
    }
   ],
   "source": [
    "from sklearn.linear_model import LinearRegression\n",
    "import numpy as np\n",
    "\n",
    "\n",
    "height = np.array([140, 150, 160, 170, 180]).reshape(-1, 1)  \n",
    "shoe_size = np.array([7, 8, 9, 10, 11])\n",
    "\n",
    "\n",
    "split_ratio = 0.8\n",
    "split_index = int(len(height) * split_ratio)\n",
    "\n",
    "X_train = height[:split_index]\n",
    "X_test = height[split_index:]\n",
    "y_train = shoe_size[:split_index]\n",
    "y_test = shoe_size[split_index:]\n",
    "\n",
    "\n",
    "model = LinearRegression()\n",
    "model.fit(X_train, y_train)\n",
    "\n",
    "\n",
    "mse = np.mean((model.predict(X_test) - y_test)**2)\n",
    "print(\"Mean Squared Error (MSE):\", mse)\n",
    "\n",
    "\n",
    "new_height = np.array([190, 200]).reshape(-1, 1)\n",
    "predicted_shoe_sizes = model.predict(new_height)\n",
    "print(\"Predicted Shoe Sizes:\", predicted_shoe_sizes)\n"
   ]
  },
  {
   "cell_type": "code",
   "execution_count": null,
   "id": "120bd5b4",
   "metadata": {},
   "outputs": [],
   "source": []
  }
 ],
 "metadata": {
  "kernelspec": {
   "display_name": "Python 3 (ipykernel)",
   "language": "python",
   "name": "python3"
  },
  "language_info": {
   "codemirror_mode": {
    "name": "ipython",
    "version": 3
   },
   "file_extension": ".py",
   "mimetype": "text/x-python",
   "name": "python",
   "nbconvert_exporter": "python",
   "pygments_lexer": "ipython3",
   "version": "3.7.1"
  }
 },
 "nbformat": 4,
 "nbformat_minor": 5
}
