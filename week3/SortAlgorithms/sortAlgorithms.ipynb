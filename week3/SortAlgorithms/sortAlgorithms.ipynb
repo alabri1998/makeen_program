{
 "cells": [
  {
   "cell_type": "code",
   "execution_count": 2,
   "id": "923ac22f",
   "metadata": {},
   "outputs": [
    {
     "name": "stdout",
     "output_type": "stream",
     "text": [
      "Sorted Array in Ascending Order:\n",
      "[1, 2, 4, 5, 10, 20]\n"
     ]
    }
   ],
   "source": [
    "def insertionSort(array):\n",
    "\n",
    "    for step in range(1, len(array)):\n",
    "        key = array[step]\n",
    "        j = step - 1\n",
    "        \n",
    "        # Compare key with each element on the left of it until an element smaller than it is found\n",
    "        # For descending order, change key<array[j] to key>array[j].        \n",
    "        while j >= 0 and key < array[j]:\n",
    "            array[j + 1] = array[j]\n",
    "            j = j - 1\n",
    "        \n",
    "        # Place key at after the element just smaller than it.\n",
    "        array[j + 1] = key\n",
    "\n",
    "\n",
    "data = [10,20,5,2,1,4]\n",
    "insertionSort(data)\n",
    "print('Sorted Array in Ascending Order:')\n",
    "print(data)"
   ]
  },
  {
   "cell_type": "code",
   "execution_count": 54,
   "id": "cf2b8fca",
   "metadata": {},
   "outputs": [
    {
     "name": "stdout",
     "output_type": "stream",
     "text": [
      "['Ali', 'Majid', 'Said', 'Salim', 'Sultan']\n"
     ]
    }
   ],
   "source": [
    "def insertionSort(names):\n",
    "    for step in range(1, len(names)):\n",
    "        key = names[step]\n",
    "        j = step - 1\n",
    "\n",
    "        # Compare key with each element on the left of it until an element smaller than it is found\n",
    "        # For descending order, change key < array[j] to key > array[j].\n",
    "        while j >= 0 and key < names[j]:\n",
    "            names[j + 1] = names[j]\n",
    "            j = j - 1\n",
    "\n",
    "        # Place key at after the element just smaller than it.\n",
    "        names[j + 1] = key\n",
    "\n",
    "    return names\n",
    "\n",
    "\n",
    "lst = ['Said,25', 'Majid,19', 'Salim,32', 'Ali,21', 'Sultan,28']\n",
    "names = []\n",
    "for i in lst:\n",
    "    data = i.split(',')\n",
    "    names.append(data[0])\n",
    "\n",
    "sorted_names = insertionSort(names)\n",
    "print(sorted_names)\n"
   ]
  },
  {
   "cell_type": "code",
   "execution_count": 56,
   "id": "66f7b1ad",
   "metadata": {},
   "outputs": [
    {
     "name": "stdout",
     "output_type": "stream",
     "text": [
      "['Majid', 'Ali', 'Said', 'Sultan', 'Salim']\n"
     ]
    }
   ],
   "source": [
    "def insertion_sort(names, ages):\n",
    "    for i in range(1, len(ages)):\n",
    "        key1 = names[i]\n",
    "        key2 = ages[i]\n",
    "        j = i - 1\n",
    "        while j >= 0 and int(key2) < int(ages[j]):\n",
    "            names[j + 1] = names[j]\n",
    "            ages[j + 1] = ages[j]\n",
    "            j -= 1\n",
    "        names[j + 1] = key1\n",
    "        ages[j + 1] = key2\n",
    "\n",
    "lst = ['Said,25', 'Majid,19', 'Salim,32', 'Ali,21', 'Sultan,28']\n",
    "names = []\n",
    "ages = []\n",
    "sorted_names = []\n",
    "for i in lst:\n",
    "    data = i.split(',')\n",
    "    names.append(data[0])\n",
    "    ages.append(data[1])\n",
    "\n",
    "insertion_sort(names, ages)\n",
    "\n",
    "for i in range(len(names)):\n",
    "    sorted_names.append(names[i])\n",
    "\n",
    "print(sorted_names)\n"
   ]
  },
  {
   "cell_type": "code",
   "execution_count": null,
   "id": "a5266331",
   "metadata": {},
   "outputs": [],
   "source": [
    "# Selection sort in Python\n",
    "\n",
    "\n",
    "def selectionSort(array, size):\n",
    "   \n",
    "    for step in range(size):\n",
    "        min_idx = step\n",
    "\n",
    "        for i in range(step + 1, size):\n",
    "         \n",
    "            # to sort in descending order, change > to < in this line\n",
    "            # select the minimum element in each loop\n",
    "            if array[i] < array[min_idx]:\n",
    "                min_idx = i\n",
    "         \n",
    "        # put min at the correct position\n",
    "        (array[step], array[min_idx]) = (array[min_idx], array[step])\n",
    "\n",
    "\n",
    "\n",
    "data = [-2, 45, 0, 11, -9]\n",
    "size = len(data)\n",
    "selectionSort(data, size)\n",
    "print('Sorted Array in Ascending Order:')\n",
    "print(data)\n",
    "\n"
   ]
  }
 ],
 "metadata": {
  "kernelspec": {
   "display_name": "Python 3 (ipykernel)",
   "language": "python",
   "name": "python3"
  },
  "language_info": {
   "codemirror_mode": {
    "name": "ipython",
    "version": 3
   },
   "file_extension": ".py",
   "mimetype": "text/x-python",
   "name": "python",
   "nbconvert_exporter": "python",
   "pygments_lexer": "ipython3",
   "version": "3.9.13"
  }
 },
 "nbformat": 4,
 "nbformat_minor": 5
}
