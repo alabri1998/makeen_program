{
 "cells": [
  {
   "cell_type": "code",
   "execution_count": 22,
   "id": "e5dfcf0b",
   "metadata": {},
   "outputs": [
    {
     "name": "stdout",
     "output_type": "stream",
     "text": [
      "sorted list: [2, 3, 4, 5, 10, 20, 25, 30, 50, 50, 70, 200, 250, 400, 500]\n",
      "found key=200 at index 11\n"
     ]
    }
   ],
   "source": [
    "def binarySeatch(les,key):\n",
    "    key = 200\n",
    "    les.sort()\n",
    "    print(\"sorted list:\" , les)\n",
    "    low = 0\n",
    "    high = len(les)-1\n",
    "    while high > low:\n",
    "        mid = (high+low)//2\n",
    "        if les[mid] == key:\n",
    "            return \"found key=\" + str(les[mid]) + \" at index \" +str(mid)\n",
    "        elif key < les[mid]:\n",
    "            high = mid-1\n",
    "        else:\n",
    "            low = mid+1\n",
    "les = [10,20,50,30,70,25,50,200,5,4,3,2,500,400,250]\n",
    "key = 200\n",
    "print(binarySeatch(les,key))"
   ]
  },
  {
   "cell_type": "code",
   "execution_count": 42,
   "id": "4b3ef4f1",
   "metadata": {},
   "outputs": [
    {
     "name": "stdout",
     "output_type": "stream",
     "text": [
      "Enter a key: 25\n",
      "sorted list: [2, 3, 4, 5, 10, 20, 25, 30, 50, 50, 70, 200, 250, 400, 500]\n",
      "Key sqaure 5.0\n"
     ]
    }
   ],
   "source": [
    "def key_sqare(key):\n",
    "    low = 0\n",
    "    high = key\n",
    "    while high >= low:\n",
    "        mid = (high+low)//2\n",
    "        if les[mid] == key:\n",
    "             \n",
    "        elif key < les[mid]:\n",
    "            high = mid-1\n",
    "        else:\n",
    "            low = mid+1\n",
    "    else:\n",
    "        print(\"key not found\")\n",
    "        return\n",
    "number = int(input('Enter a key: '))\n",
    "key_sqare(number)"
   ]
  },
  {
   "cell_type": "markdown",
   "id": "8cce3dd4",
   "metadata": {},
   "source": []
  },
  {
   "cell_type": "code",
   "execution_count": null,
   "id": "15793bb8",
   "metadata": {},
   "outputs": [],
   "source": []
  }
 ],
 "metadata": {
  "kernelspec": {
   "display_name": "Python 3 (ipykernel)",
   "language": "python",
   "name": "python3"
  },
  "language_info": {
   "codemirror_mode": {
    "name": "ipython",
    "version": 3
   },
   "file_extension": ".py",
   "mimetype": "text/x-python",
   "name": "python",
   "nbconvert_exporter": "python",
   "pygments_lexer": "ipython3",
   "version": "3.9.13"
  }
 },
 "nbformat": 4,
 "nbformat_minor": 5
}
