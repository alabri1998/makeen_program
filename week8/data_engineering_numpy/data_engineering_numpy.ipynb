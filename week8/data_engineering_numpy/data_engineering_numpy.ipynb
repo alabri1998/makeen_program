{
 "cells": [
  {
   "cell_type": "code",
   "execution_count": 1,
   "id": "9d4fde94",
   "metadata": {},
   "outputs": [],
   "source": [
    "import numpy as np"
   ]
  },
  {
   "cell_type": "code",
   "execution_count": 6,
   "id": "4f22a149",
   "metadata": {},
   "outputs": [
    {
     "data": {
      "text/plain": [
       "array([[2.14299737, 2.67950361, 2.53927811],\n",
       "       [1.58483046, 2.29260667, 1.20739549],\n",
       "       [1.68770659, 1.13982724, 1.238438  ]])"
      ]
     },
     "execution_count": 6,
     "metadata": {},
     "output_type": "execute_result"
    }
   ],
   "source": [
    "#Create a NumPy array with shape (3,3) and fill it with random numbers. Use the np.exp() function to compute the exponential of each element in the array.\n",
    "\n",
    "arr = np.random.rand(3,3)\n",
    "np.exp(arr)"
   ]
  },
  {
   "cell_type": "code",
   "execution_count": 7,
   "id": "5dcd2d3a",
   "metadata": {},
   "outputs": [
    {
     "data": {
      "text/plain": [
       "array([[0.19564786, 0.82408616, 0.59827634, 0.42836782],\n",
       "       [0.26693026, 0.82841333, 0.09830439, 0.34224754],\n",
       "       [0.80862665, 0.71969438, 0.55087956, 0.78751848],\n",
       "       [0.76695615, 0.51748928, 0.64960559, 0.68781672]])"
      ]
     },
     "execution_count": 7,
     "metadata": {},
     "output_type": "execute_result"
    }
   ],
   "source": [
    "#  Create a NumPy array with shape (4,4) and fill it with random numbers. Use the np.sin() function to compute the sine of each element in the array.\n",
    "arr = np.random.rand(4,4)\n",
    "np.sin(arr)"
   ]
  },
  {
   "cell_type": "code",
   "execution_count": 8,
   "id": "bb1d0066",
   "metadata": {},
   "outputs": [
    {
     "data": {
      "text/plain": [
       "array([[-0.38616591, -1.33456685, -0.05554907, -0.37501366, -1.03570143],\n",
       "       [-0.56880457, -0.97899681, -0.20070063, -0.24783464, -0.98068059],\n",
       "       [-0.46575837, -0.48218194, -0.34017325, -0.14957965, -0.59910337],\n",
       "       [-0.08816589, -0.60342563, -0.3761972 , -2.85793975, -0.21008296],\n",
       "       [-0.46386495, -1.69600797, -0.33455839, -0.77421703, -0.13629531]])"
      ]
     },
     "execution_count": 8,
     "metadata": {},
     "output_type": "execute_result"
    }
   ],
   "source": [
    "#Create a NumPy array with shape (5,5) and fill it with random numbers. Use the np.log() function to compute the natural logarithm of each element in the array.\n",
    "arr = np.random.rand(5,5)\n",
    "np.log(arr)"
   ]
  },
  {
   "cell_type": "code",
   "execution_count": 9,
   "id": "beb35560",
   "metadata": {},
   "outputs": [
    {
     "data": {
      "text/plain": [
       "array([[0.82441358, 0.51310056, 0.97260763, 0.82902345, 0.59579972],\n",
       "       [0.75246388, 0.61293376, 0.9045205 , 0.88345288, 0.61241796],\n",
       "       [0.79224928, 0.78577014, 0.84359174, 0.92793849, 0.74115041],\n",
       "       [0.95687459, 0.73955042, 0.82853301, 0.23955557, 0.90028718],\n",
       "       [0.79299967, 0.42826891, 0.84596339, 0.67901741, 0.93412254]])"
      ]
     },
     "execution_count": 9,
     "metadata": {},
     "output_type": "execute_result"
    }
   ],
   "source": [
    "#Create a NumPy array with shape (2,2) and fill it with random numbers. Use the np.sqrt() function to compute the square root of each element in the array.\n",
    "np.sqrt(arr)"
   ]
  },
  {
   "cell_type": "code",
   "execution_count": 12,
   "id": "ee62ed90",
   "metadata": {},
   "outputs": [
    {
     "data": {
      "text/plain": [
       "array([[ 9., 40., 10.,  3., 16., 88.],\n",
       "       [23., 61., 19., 40., 92., 12.],\n",
       "       [62., 63., 36., 97., 94., 45.],\n",
       "       [46.,  5., 23., 14., 72., 62.],\n",
       "       [81., 58., 96., 61., 95., 68.],\n",
       "       [32., 46., 46., 66., 79.,  6.]])"
      ]
     },
     "execution_count": 12,
     "metadata": {},
     "output_type": "execute_result"
    }
   ],
   "source": [
    "# Create a NumPy array with shape (6,6) and fill it with random numbers. Use the np.floor() function to round down each element in the array to the nearest integer.\n",
    "arr = np.random.rand(6,6)*100\n",
    "np.floor(arr)"
   ]
  },
  {
   "cell_type": "code",
   "execution_count": 13,
   "id": "0eacf756",
   "metadata": {},
   "outputs": [
    {
     "data": {
      "text/plain": [
       "array([[0.55799129, 0.69682127, 0.45318055],\n",
       "       [0.19479796, 0.61739742, 0.01239621],\n",
       "       [0.0713875 , 0.60272028, 0.87396632]])"
      ]
     },
     "execution_count": 13,
     "metadata": {},
     "output_type": "execute_result"
    }
   ],
   "source": [
    "# Create a NumPy array with shape (3,3) and fill it with random numbers. Use the np.abs() function to compute the absolute value of each element in the array.\n",
    "arr = np.random.rand(3,3)\n",
    "np.abs(arr)"
   ]
  },
  {
   "cell_type": "code",
   "execution_count": 17,
   "id": "4ed0c4bf",
   "metadata": {},
   "outputs": [
    {
     "data": {
      "text/plain": [
       "array([[ 266.80659103,  220.41036026, 5581.41738109, 3757.0959957 ],\n",
       "       [1527.48391905, 2628.19450527,  909.4601389 , 8838.89722926],\n",
       "       [9957.27760332,  282.83058883, 1207.97148405, 2551.33649942],\n",
       "       [ 143.74509344, 1245.70423654,  191.9358174 , 9611.95574242]])"
      ]
     },
     "execution_count": 17,
     "metadata": {},
     "output_type": "execute_result"
    }
   ],
   "source": [
    "# Create a NumPy array with shape (4,4) and fill it with random numbers. Use the np.power() function to raise each element in the array to the power of 2.\n",
    "arr = np.random.rand(4,4)*100\n",
    "np.power(arr,2)"
   ]
  },
  {
   "cell_type": "code",
   "execution_count": 19,
   "id": "80ce2c85",
   "metadata": {},
   "outputs": [
    {
     "name": "stdout",
     "output_type": "stream",
     "text": [
      "[6 1 8 3 8]\n",
      "8\n"
     ]
    }
   ],
   "source": [
    "# Create a NumPy array with 5 random integers between 1 and 10. Use the maximum function to find the largest element in the array.\n",
    "arr = np.random.randint(1,10,5)\n",
    "print(arr)\n",
    "print(max(arr))"
   ]
  },
  {
   "cell_type": "code",
   "execution_count": 24,
   "id": "efb6d72a",
   "metadata": {},
   "outputs": [
    {
     "data": {
      "text/plain": [
       "array([1., 1., 0., 0., 0., 1., 1., 1., 1., 1.])"
      ]
     },
     "execution_count": 24,
     "metadata": {},
     "output_type": "execute_result"
    }
   ],
   "source": [
    "# Create a NumPy array with 10 random floating-point numbers between 0 and 1. Use the round function to round each element to the nearest integer.\n",
    "arr = np.random.rand(10)\n",
    "np.round(arr)"
   ]
  },
  {
   "cell_type": "code",
   "execution_count": 29,
   "id": "c04b16b3",
   "metadata": {},
   "outputs": [
    {
     "name": "stdout",
     "output_type": "stream",
     "text": [
      "[ 9 88 27 25 68 11 59]\n"
     ]
    },
    {
     "data": {
      "text/plain": [
       "1"
      ]
     },
     "execution_count": 29,
     "metadata": {},
     "output_type": "execute_result"
    }
   ],
   "source": [
    "#Create a NumPy array with 7 random integers between 1 and 100. Use the argmax function to find the index of the largest element in the array.\n",
    "arr = np.random.randint(1,100,7)\n",
    "print(arr)\n",
    "np.argmax(arr)"
   ]
  },
  {
   "cell_type": "code",
   "execution_count": 31,
   "id": "2d174742",
   "metadata": {},
   "outputs": [
    {
     "data": {
      "text/plain": [
       "array([16, 18,  5,  5, 12])"
      ]
     },
     "execution_count": 31,
     "metadata": {},
     "output_type": "execute_result"
    }
   ],
   "source": [
    "#Create two NumPy arrays with the same shape, each filled with random integers between 1 and 10. Use the add function to add the two arrays together element-wise.\n",
    "arr1 = np.random.randint(1,10,5)\n",
    "arr2 = np.random.randint(1,10,5)\n",
    "np.add(arr1,arr2)"
   ]
  },
  {
   "cell_type": "code",
   "execution_count": 39,
   "id": "e635b669",
   "metadata": {},
   "outputs": [
    {
     "name": "stdout",
     "output_type": "stream",
     "text": [
      "[63 37  0 27 55 20 73 67 33 25 67 99]\n"
     ]
    },
    {
     "data": {
      "text/plain": [
       "array([63, 37, 10, 27, 55, 20, 73, 67, 33, 25, 67, 90])"
      ]
     },
     "execution_count": 39,
     "metadata": {},
     "output_type": "execute_result"
    }
   ],
   "source": [
    "# Create a NumPy array with 12 random integers between 0 and 100. Use the clip function to limit the values in the array to a range between 10 and 90.\n",
    "arr = np.random.randint(0,100,12)\n",
    "print(arr)\n",
    "np.clip(arr,10,90)"
   ]
  },
  {
   "cell_type": "code",
   "execution_count": 40,
   "id": "33b861ac",
   "metadata": {},
   "outputs": [
    {
     "data": {
      "text/plain": [
       "array([59, 51, 93, 32, 95, 77,  4, 44, 47, 98])"
      ]
     },
     "execution_count": 40,
     "metadata": {},
     "output_type": "execute_result"
    }
   ],
   "source": [
    "# Create a NumPy array with 10 random integers between 0 and 100.\n",
    "arr = np.random.randint(0,100,10)\n",
    "arr"
   ]
  },
  {
   "cell_type": "code",
   "execution_count": 46,
   "id": "82b8374d",
   "metadata": {},
   "outputs": [
    {
     "data": {
      "text/plain": [
       "array([-1, -1,  1, -1,  1, -1])"
      ]
     },
     "execution_count": 46,
     "metadata": {},
     "output_type": "execute_result"
    }
   ],
   "source": [
    "\"\"\"\n",
    "Use the np.where() function to create a new array with the same shape as the previous one,\n",
    "where values less than 50 are replaced with -1 and values greater than or equal to 50 are\n",
    "replaced with 1.\n",
    "\"\"\"\n",
    "arr1 = np.array([1,2,66,4,57,6])\n",
    "arr2=np.where(arr1>=50 , 1 , -1)\n",
    "arr2"
   ]
  },
  {
   "cell_type": "code",
   "execution_count": 48,
   "id": "197c1ff9",
   "metadata": {},
   "outputs": [
    {
     "name": "stdout",
     "output_type": "stream",
     "text": [
      "56.1\n",
      "57.0\n",
      "24.10580842867544\n"
     ]
    }
   ],
   "source": [
    "# Calculate the mean, median, and standard deviation of the original array.\n",
    "arr = np.random.randint(0,100,10)\n",
    "print(np.mean(arr))\n",
    "print(np.median(arr))\n",
    "print(np.std(arr))"
   ]
  },
  {
   "cell_type": "code",
   "execution_count": 52,
   "id": "0921bf03",
   "metadata": {},
   "outputs": [
    {
     "name": "stdout",
     "output_type": "stream",
     "text": [
      "[False  True False  True False  True False  True]\n"
     ]
    }
   ],
   "source": [
    "# Create a boolean array that is True where the values in the original array are even, and False otherwise.\n",
    "\n",
    "def is_even(array):\n",
    "  \"\"\"Returns a boolean array that is True where the values in the original array are even, and False otherwise.\"\"\"\n",
    "  even_array = np.ones_like(array, dtype=bool)\n",
    "  even_array[array % 2 == 1] = False\n",
    "  return even_array\n",
    "\n",
    "if __name__ == \"__main__\":\n",
    "      array = np.array([1, 2, 3, 4, 5, 6, 7, 8])\n",
    "      even_array = is_even(array)\n",
    "      print(even_array)"
   ]
  },
  {
   "cell_type": "code",
   "execution_count": 53,
   "id": "769d8ce6",
   "metadata": {},
   "outputs": [
    {
     "data": {
      "text/plain": [
       "array([ 2,  3, 24, 25, 39, 42, 48, 63, 67, 67])"
      ]
     },
     "execution_count": 53,
     "metadata": {},
     "output_type": "execute_result"
    }
   ],
   "source": [
    "# Sort the original array in ascending order.\n",
    "arr = np.random.randint(0,100,10)\n",
    "np.sort(arr)"
   ]
  },
  {
   "cell_type": "code",
   "execution_count": 54,
   "id": "58312dd8",
   "metadata": {},
   "outputs": [
    {
     "data": {
      "text/plain": [
       "array([ 2,  3, 24, 25, 39, 42, 48, 63, 67])"
      ]
     },
     "execution_count": 54,
     "metadata": {},
     "output_type": "execute_result"
    }
   ],
   "source": [
    "# Find the unique values in the original array.\n",
    "np.unique(arr)"
   ]
  },
  {
   "cell_type": "code",
   "execution_count": 60,
   "id": "e479d8bb",
   "metadata": {},
   "outputs": [
    {
     "data": {
      "text/plain": [
       "array([False, False, False,  True, False])"
      ]
     },
     "execution_count": 60,
     "metadata": {},
     "output_type": "execute_result"
    }
   ],
   "source": [
    "# Use the np.in1d() function to create a boolean array indicating which elements of the original array are also present in a new array with 5 random integers between 0 and 100\n",
    "test = np.random.randint(0,100,5)\n",
    "np.in1d(test,arr)"
   ]
  },
  {
   "cell_type": "code",
   "execution_count": 64,
   "id": "70fc7fbb",
   "metadata": {},
   "outputs": [],
   "source": [
    "# Save the original array to a text file named \"my_array.txt\" using the np.savetxt() function.\n",
    "np.savetxt('my_array.txt',arr)"
   ]
  },
  {
   "cell_type": "code",
   "execution_count": null,
   "id": "7f4c5878",
   "metadata": {},
   "outputs": [],
   "source": []
  }
 ],
 "metadata": {
  "kernelspec": {
   "display_name": "Python 3 (ipykernel)",
   "language": "python",
   "name": "python3"
  },
  "language_info": {
   "codemirror_mode": {
    "name": "ipython",
    "version": 3
   },
   "file_extension": ".py",
   "mimetype": "text/x-python",
   "name": "python",
   "nbconvert_exporter": "python",
   "pygments_lexer": "ipython3",
   "version": "3.9.13"
  }
 },
 "nbformat": 4,
 "nbformat_minor": 5
}
