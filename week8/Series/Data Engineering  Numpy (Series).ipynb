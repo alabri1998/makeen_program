{
 "cells": [
  {
   "cell_type": "code",
   "execution_count": 2,
   "id": "28e097e2",
   "metadata": {},
   "outputs": [],
   "source": [
    "\n",
    "import numpy as np\n",
    "import pandas as pd\n",
    " "
   ]
  },
  {
   "cell_type": "code",
   "execution_count": 4,
   "id": "b397ea37",
   "metadata": {},
   "outputs": [
    {
     "data": {
      "text/plain": [
       "0     10\n",
       "1     20\n",
       "2     30\n",
       "3     40\n",
       "4     50\n",
       "5     60\n",
       "6     70\n",
       "7     80\n",
       "8     90\n",
       "9    100\n",
       "dtype: int32"
      ]
     },
     "execution_count": 4,
     "metadata": {},
     "output_type": "execute_result"
    }
   ],
   "source": [
    "\n",
    "# series with numpy linspace()\n",
    "ser = pd.Series(np.array([10, 20, 30, 40, 50, 60, 70, 80 ,90, 100]))\n",
    "ser\n"
   ]
  },
  {
   "cell_type": "code",
   "execution_count": 5,
   "id": "dce67c03",
   "metadata": {},
   "outputs": [
    {
     "data": {
      "text/plain": [
       "0    10\n",
       "1    20\n",
       "2    30\n",
       "3    40\n",
       "4    50\n",
       "dtype: int32"
      ]
     },
     "execution_count": 5,
     "metadata": {},
     "output_type": "execute_result"
    }
   ],
   "source": [
    "#retreieve first 5 element from series\n",
    "ser[:5]"
   ]
  },
  {
   "cell_type": "code",
   "execution_count": 6,
   "id": "2b126c17",
   "metadata": {},
   "outputs": [
    {
     "data": {
      "text/plain": [
       "5     60\n",
       "6     70\n",
       "7     80\n",
       "8     90\n",
       "9    100\n",
       "dtype: int32"
      ]
     },
     "execution_count": 6,
     "metadata": {},
     "output_type": "execute_result"
    }
   ],
   "source": [
    "#retreieve last 5 element from series\n",
    "ser[5:]"
   ]
  },
  {
   "cell_type": "code",
   "execution_count": 8,
   "id": "87d2915e",
   "metadata": {},
   "outputs": [
    {
     "data": {
      "text/plain": [
       "50"
      ]
     },
     "execution_count": 8,
     "metadata": {},
     "output_type": "execute_result"
    }
   ],
   "source": [
    "#accessing a element using index element\n",
    "ser[4]"
   ]
  },
  {
   "cell_type": "code",
   "execution_count": 9,
   "id": "6da1909d",
   "metadata": {},
   "outputs": [
    {
     "data": {
      "text/plain": [
       "array([ 10,  20,  30,  40,  50,  60,  70,  80,  90, 100])"
      ]
     },
     "execution_count": 9,
     "metadata": {},
     "output_type": "execute_result"
    }
   ],
   "source": [
    "ser.values #show the values of series"
   ]
  },
  {
   "cell_type": "code",
   "execution_count": 10,
   "id": "e312ef93",
   "metadata": {},
   "outputs": [
    {
     "data": {
      "text/plain": [
       "RangeIndex(start=0, stop=10, step=1)"
      ]
     },
     "execution_count": 10,
     "metadata": {},
     "output_type": "execute_result"
    }
   ],
   "source": [
    "ser.index #show indexes"
   ]
  },
  {
   "cell_type": "code",
   "execution_count": 13,
   "id": "d3484713",
   "metadata": {},
   "outputs": [
    {
     "data": {
      "text/plain": [
       "USSR       23\n",
       "Germany    10\n",
       "China      15\n",
       "Oman       50\n",
       "Bahrin     45\n",
       "dtype: int64"
      ]
     },
     "execution_count": 13,
     "metadata": {},
     "output_type": "execute_result"
    }
   ],
   "source": [
    "# create series with an index\n",
    "tempreature = pd.Series([23,10,15,50,45],index=['USSR','Germany','China','Oman','Bahrin'])\n",
    "tempreature"
   ]
  },
  {
   "cell_type": "code",
   "execution_count": 14,
   "id": "b58fd210",
   "metadata": {},
   "outputs": [
    {
     "data": {
      "text/plain": [
       "50"
      ]
     },
     "execution_count": 14,
     "metadata": {},
     "output_type": "execute_result"
    }
   ],
   "source": [
    "tempreature['Oman']"
   ]
  },
  {
   "cell_type": "code",
   "execution_count": 15,
   "id": "f7be8298",
   "metadata": {},
   "outputs": [
    {
     "data": {
      "text/plain": [
       "Oman      50\n",
       "Bahrin    45\n",
       "dtype: int64"
      ]
     },
     "execution_count": 15,
     "metadata": {},
     "output_type": "execute_result"
    }
   ],
   "source": [
    "#get countries with tempreature greater then 40\n",
    "tempreature[tempreature>40]"
   ]
  },
  {
   "cell_type": "code",
   "execution_count": 16,
   "id": "f05240b0",
   "metadata": {},
   "outputs": [
    {
     "data": {
      "text/plain": [
       "False"
      ]
     },
     "execution_count": 16,
     "metadata": {},
     "output_type": "execute_result"
    }
   ],
   "source": [
    "# chick if UAE in series\n",
    "'UAE' in tempreature"
   ]
  },
  {
   "cell_type": "code",
   "execution_count": 17,
   "id": "06a6a749",
   "metadata": {},
   "outputs": [
    {
     "data": {
      "text/plain": [
       "{'USSR': 23, 'Germany': 10, 'China': 15, 'Oman': 50, 'Bahrin': 45}"
      ]
     },
     "execution_count": 17,
     "metadata": {},
     "output_type": "execute_result"
    }
   ],
   "source": [
    "#convert series to python dictionary\n",
    "temp_dict = tempreature.to_dict()\n",
    "temp_dict"
   ]
  },
  {
   "cell_type": "code",
   "execution_count": 18,
   "id": "159f9631",
   "metadata": {},
   "outputs": [
    {
     "data": {
      "text/plain": [
       "USSR       23\n",
       "Germany    10\n",
       "China      15\n",
       "Oman       50\n",
       "Bahrin     45\n",
       "Name: Tempreatures in countries, dtype: int64"
      ]
     },
     "execution_count": 18,
     "metadata": {},
     "output_type": "execute_result"
    }
   ],
   "source": [
    "#we can give name for series\n",
    "tempreature.name = 'Tempreatures in countries'\n",
    "tempreature"
   ]
  },
  {
   "cell_type": "code",
   "execution_count": 22,
   "id": "026ce3ba",
   "metadata": {},
   "outputs": [],
   "source": [
    "data = [10,20,30,40,50]"
   ]
  },
  {
   "cell_type": "code",
   "execution_count": 23,
   "id": "a9bf35ef",
   "metadata": {},
   "outputs": [
    {
     "data": {
      "text/plain": [
       "0    10\n",
       "1    20\n",
       "2    30\n",
       "3    40\n",
       "4    50\n",
       "dtype: int64"
      ]
     },
     "execution_count": 23,
     "metadata": {},
     "output_type": "execute_result"
    }
   ],
   "source": [
    "#  Create a Series using the following data: data = [10, 20, 30, 40, 50]\n",
    "series = pd.Series(data)\n",
    "series"
   ]
  },
  {
   "cell_type": "code",
   "execution_count": 39,
   "id": "03a11b4d",
   "metadata": {},
   "outputs": [
    {
     "data": {
      "text/plain": [
       "a    10\n",
       "b    20\n",
       "c    30\n",
       "d    40\n",
       "e    50\n",
       "dtype: int64"
      ]
     },
     "execution_count": 39,
     "metadata": {},
     "output_type": "execute_result"
    }
   ],
   "source": [
    " #Assign the following index labels to the Series: index = ['a', 'b', 'c', 'd', 'e']\n",
    "lab_series = pd.Series(data,index = ['a', 'b', 'c', 'd', 'e'])    \n",
    "lab_series"
   ]
  },
  {
   "cell_type": "code",
   "execution_count": 30,
   "id": "e806ea2d",
   "metadata": {},
   "outputs": [
    {
     "data": {
      "text/plain": [
       "(20, 50)"
      ]
     },
     "execution_count": 30,
     "metadata": {},
     "output_type": "execute_result"
    }
   ],
   "source": [
    "# Use index values to select the values of the Series for the labels 'b' and 'e'\n",
    "lab_series['b'] ,lab_series['e']"
   ]
  },
  {
   "cell_type": "code",
   "execution_count": 41,
   "id": "1ff0ecbe",
   "metadata": {},
   "outputs": [
    {
     "data": {
      "text/plain": [
       "True"
      ]
     },
     "execution_count": 41,
     "metadata": {},
     "output_type": "execute_result"
    }
   ],
   "source": [
    "#Check if the Series contains the value 20 using a boolean array.\n",
    "20 in lab_series.values"
   ]
  },
  {
   "cell_type": "code",
   "execution_count": 44,
   "id": "20a0c1e6",
   "metadata": {},
   "outputs": [
    {
     "data": {
      "text/plain": [
       "False"
      ]
     },
     "execution_count": 44,
     "metadata": {},
     "output_type": "execute_result"
    }
   ],
   "source": [
    "#  Check if the Series contains the values 15 and 20 using a boolean array.\n",
    "20 and 15 in lab_series.values"
   ]
  },
  {
   "cell_type": "code",
   "execution_count": 45,
   "id": "6b09441a",
   "metadata": {},
   "outputs": [
    {
     "data": {
      "text/plain": [
       "a    15\n",
       "b    25\n",
       "c    35\n",
       "d    45\n",
       "e    55\n",
       "dtype: int64"
      ]
     },
     "execution_count": 45,
     "metadata": {},
     "output_type": "execute_result"
    }
   ],
   "source": [
    "# Add the value 5 to each element of the Series using array operations.\n",
    "lab_series +5"
   ]
  },
  {
   "cell_type": "code",
   "execution_count": 48,
   "id": "4a37675b",
   "metadata": {},
   "outputs": [
    {
     "data": {
      "text/plain": [
       "{'a': 10, 'b': 20, 'c': 30, 'd': 40, 'e': 50}"
      ]
     },
     "execution_count": 48,
     "metadata": {},
     "output_type": "execute_result"
    }
   ],
   "source": [
    "#Convert the Series into a Python dictionary and check its values.\n",
    "ser_to_dict = lab_series.to_dict()\n",
    "ser_to_dict"
   ]
  },
  {
   "cell_type": "code",
   "execution_count": 50,
   "id": "bded01f8",
   "metadata": {},
   "outputs": [
    {
     "data": {
      "text/plain": [
       "a    10\n",
       "b    20\n",
       "c    30\n",
       "d    40\n",
       "e    50\n",
       "f    60\n",
       "dtype: int64"
      ]
     },
     "execution_count": 50,
     "metadata": {},
     "output_type": "execute_result"
    }
   ],
   "source": [
    "\"\"\"\n",
    "Pass a dictionary to the Series constructor and assign the following keys and values:\n",
    "{'a': 10, 'b': 20, 'c': 30, 'd': 40, 'e': 50, 'f': 60}\n",
    "\n",
    "\"\"\"\n",
    "dict1 = {'a': 10, 'b': 20, 'c': 30, 'd': 40, 'e': 50, 'f': 60}\n",
    "ser = pd.Series(dict1)\n",
    "ser"
   ]
  },
  {
   "cell_type": "code",
   "execution_count": 54,
   "id": "34c46d11",
   "metadata": {},
   "outputs": [
    {
     "name": "stdout",
     "output_type": "stream",
     "text": [
      "a    False\n",
      "b    False\n",
      "c    False\n",
      "d    False\n",
      "e    False\n",
      "f    False\n",
      "dtype: bool\n",
      "\n",
      "a    True\n",
      "b    True\n",
      "c    True\n",
      "d    True\n",
      "e    True\n",
      "f    True\n",
      "dtype: bool\n"
     ]
    }
   ],
   "source": [
    "#  Check if any values in the Series are null or not null using isnull() and notnull() methods.\n",
    "print(ser.isnull())\n",
    "print()\n",
    "print(ser.notnull())"
   ]
  },
  {
   "cell_type": "code",
   "execution_count": 56,
   "id": "3556091d",
   "metadata": {},
   "outputs": [
    {
     "data": {
      "text/plain": [
       "0    20\n",
       "1    30\n",
       "2    40\n",
       "3    50\n",
       "4    60\n",
       "dtype: int64"
      ]
     },
     "execution_count": 56,
     "metadata": {},
     "output_type": "execute_result"
    }
   ],
   "source": [
    "#  Create another Series using the following data: data2 = [20, 30, 40, 50, 60]\n",
    "data2 = [20, 30, 40, 50, 60]\n",
    "ser2= pd.Series(data2)\n",
    "ser2"
   ]
  },
  {
   "cell_type": "code",
   "execution_count": 58,
   "id": "5e987aa5",
   "metadata": {},
   "outputs": [
    {
     "data": {
      "text/plain": [
       "b    20\n",
       "c    30\n",
       "d    40\n",
       "e    50\n",
       "f    60\n",
       "dtype: int64"
      ]
     },
     "execution_count": 58,
     "metadata": {},
     "output_type": "execute_result"
    }
   ],
   "source": [
    "#  Assign the following index labels to the second Series: index2 = ['b', 'c', 'd', 'e', 'f']\n",
    "ser2 = pd.Series(data2,index= ['b', 'c', 'd', 'e', 'f'])\n",
    "ser2"
   ]
  },
  {
   "cell_type": "code",
   "execution_count": 63,
   "id": "68646473",
   "metadata": {},
   "outputs": [
    {
     "name": "stderr",
     "output_type": "stream",
     "text": [
      "C:\\Users\\user\\AppData\\Local\\Temp\\ipykernel_4532\\342972860.py:5: FutureWarning: The series.append method is deprecated and will be removed from pandas in a future version. Use pandas.concat instead.\n",
      "  ser.append(ser2)\n"
     ]
    },
    {
     "data": {
      "text/plain": [
       "0    20\n",
       "1    30\n",
       "2    40\n",
       "3    50\n",
       "4    60\n",
       "b    20\n",
       "c    30\n",
       "d    40\n",
       "e    50\n",
       "f    60\n",
       "dtype: int64"
      ]
     },
     "execution_count": 63,
     "metadata": {},
     "output_type": "execute_result"
    }
   ],
   "source": [
    "\"\"\"\n",
    " Add the two Series together and observe how pandas automatically aligns the data based on\n",
    "their index labels.\n",
    "\"\"\"\n",
    "ser.append(ser2)"
   ]
  },
  {
   "cell_type": "code",
   "execution_count": 64,
   "id": "94c54afd",
   "metadata": {},
   "outputs": [
    {
     "data": {
      "text/plain": [
       "array([20, 30, 40, 50, 60], dtype=int64)"
      ]
     },
     "execution_count": 64,
     "metadata": {},
     "output_type": "execute_result"
    }
   ],
   "source": [
    "#  Use the unique() method to find the unique values in the Series.\n",
    "np.unique(ser)"
   ]
  },
  {
   "cell_type": "code",
   "execution_count": null,
   "id": "b3adef58",
   "metadata": {},
   "outputs": [],
   "source": []
  }
 ],
 "metadata": {
  "kernelspec": {
   "display_name": "Python 3 (ipykernel)",
   "language": "python",
   "name": "python3"
  },
  "language_info": {
   "codemirror_mode": {
    "name": "ipython",
    "version": 3
   },
   "file_extension": ".py",
   "mimetype": "text/x-python",
   "name": "python",
   "nbconvert_exporter": "python",
   "pygments_lexer": "ipython3",
   "version": "3.9.13"
  }
 },
 "nbformat": 4,
 "nbformat_minor": 5
}
