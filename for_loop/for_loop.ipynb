{
 "cells": [
  {
   "cell_type": "code",
   "execution_count": 6,
   "id": "936600f7",
   "metadata": {},
   "outputs": [
    {
     "name": "stdout",
     "output_type": "stream",
     "text": [
      "V"
     ]
    }
   ],
   "source": [
    "stateName = \"Virginia\"\n",
    "for letter in stateName:\n",
    "    print(letter,end=\"\")"
   ]
  },
  {
   "cell_type": "code",
   "execution_count": 16,
   "id": "44f704ee",
   "metadata": {},
   "outputs": [
    {
     "name": "stdout",
     "output_type": "stream",
     "text": [
      "Enter range of values 4\n",
      "Enter value: 16\n",
      "Enter value: 4\n",
      "Enter value: 10\n",
      "Enter value: 10\n",
      "4.333333333333333\n"
     ]
    }
   ],
   "source": [
    "total = 0\n",
    "_range = int(input(\"Enter range of values \"))\n",
    "inputStr = float(input('Enter value: '))\n",
    "count = 0\n",
    "for i in range(1,_range):\n",
    "    sum_values = i + inputStr\n",
    "    count = count+1\n",
    "    inputStr = float(input('Enter value: '))\n",
    "    \n",
    "if count > 0:\n",
    "    average = sum_values/count\n",
    "else:\n",
    "    average =0\n",
    "print(average)\n",
    "    \n",
    "    "
   ]
  },
  {
   "cell_type": "code",
   "execution_count": null,
   "id": "c7bc048d",
   "metadata": {},
   "outputs": [],
   "source": []
  }
 ],
 "metadata": {
  "kernelspec": {
   "display_name": "Python 3 (ipykernel)",
   "language": "python",
   "name": "python3"
  },
  "language_info": {
   "codemirror_mode": {
    "name": "ipython",
    "version": 3
   },
   "file_extension": ".py",
   "mimetype": "text/x-python",
   "name": "python",
   "nbconvert_exporter": "python",
   "pygments_lexer": "ipython3",
   "version": "3.9.13"
  }
 },
 "nbformat": 4,
 "nbformat_minor": 5
}
