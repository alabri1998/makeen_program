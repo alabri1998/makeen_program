{
 "cells": [
  {
   "cell_type": "code",
   "execution_count": 1,
   "id": "203689e1",
   "metadata": {},
   "outputs": [],
   "source": [
    "import numpy as np"
   ]
  },
  {
   "cell_type": "code",
   "execution_count": 2,
   "id": "13a2fa3e",
   "metadata": {},
   "outputs": [
    {
     "data": {
      "text/plain": [
       "array([ 0,  1,  2,  3,  4,  5,  6,  7,  8,  9, 10, 11, 12, 13, 14, 15])"
      ]
     },
     "execution_count": 2,
     "metadata": {},
     "output_type": "execute_result"
    }
   ],
   "source": [
    "#create array 0,15\n",
    "arr=np.arange(0,16)\n",
    "arr"
   ]
  },
  {
   "cell_type": "code",
   "execution_count": 3,
   "id": "0bb3a9b9",
   "metadata": {},
   "outputs": [
    {
     "data": {
      "text/plain": [
       "(16,)"
      ]
     },
     "execution_count": 3,
     "metadata": {},
     "output_type": "execute_result"
    }
   ],
   "source": [
    " #Size of the array\n",
    "arr.shape"
   ]
  },
  {
   "cell_type": "code",
   "execution_count": 4,
   "id": "8654d0f6",
   "metadata": {},
   "outputs": [
    {
     "data": {
      "text/plain": [
       "5"
      ]
     },
     "execution_count": 4,
     "metadata": {},
     "output_type": "execute_result"
    }
   ],
   "source": [
    "#value at index 5\n",
    "arr[5]"
   ]
  },
  {
   "cell_type": "code",
   "execution_count": 5,
   "id": "f227712a",
   "metadata": {},
   "outputs": [
    {
     "data": {
      "text/plain": [
       "array([1, 2, 3, 4])"
      ]
     },
     "execution_count": 5,
     "metadata": {},
     "output_type": "execute_result"
    }
   ],
   "source": [
    "#values at range index. Start at indx=1 end at indx=4\n",
    "arr[1:5]"
   ]
  },
  {
   "cell_type": "code",
   "execution_count": 6,
   "id": "ecf98950",
   "metadata": {},
   "outputs": [
    {
     "data": {
      "text/plain": [
       "array([0, 1, 2, 3, 4])"
      ]
     },
     "execution_count": 6,
     "metadata": {},
     "output_type": "execute_result"
    }
   ],
   "source": [
    "#value at range index\n",
    "arr[0:5]"
   ]
  },
  {
   "cell_type": "code",
   "execution_count": 7,
   "id": "0e16e3f0",
   "metadata": {},
   "outputs": [
    {
     "data": {
      "text/plain": [
       "array([100, 100,   2,   3,   4,   5,   6,   7,   8,   9,  10,  11,  12,\n",
       "        13,  14,  15])"
      ]
     },
     "execution_count": 7,
     "metadata": {},
     "output_type": "execute_result"
    }
   ],
   "source": [
    "#Set a value at range\n",
    "arr[0:2]=100\n",
    "arr"
   ]
  },
  {
   "cell_type": "code",
   "execution_count": 8,
   "id": "7efc6abb",
   "metadata": {},
   "outputs": [
    {
     "data": {
      "text/plain": [
       "array([100, 100,   2,   3,   4,   5,   6])"
      ]
     },
     "execution_count": 8,
     "metadata": {},
     "output_type": "execute_result"
    }
   ],
   "source": [
    "#slices of the array\n",
    "slice_of_arr = arr[0:7]\n",
    "slice_of_arr"
   ]
  },
  {
   "cell_type": "code",
   "execution_count": 10,
   "id": "af82b3b4",
   "metadata": {},
   "outputs": [
    {
     "data": {
      "text/plain": [
       "array([99, 99, 99, 99, 99, 99, 99])"
      ]
     },
     "execution_count": 10,
     "metadata": {},
     "output_type": "execute_result"
    }
   ],
   "source": [
    "slice_of_arr[:] = 99\n",
    "slice_of_arr"
   ]
  },
  {
   "cell_type": "code",
   "execution_count": 11,
   "id": "4f961ced",
   "metadata": {},
   "outputs": [
    {
     "data": {
      "text/plain": [
       "array([99, 99, 99, 99, 99, 99, 99,  7,  8,  9, 10, 11, 12, 13, 14, 15])"
      ]
     },
     "execution_count": 11,
     "metadata": {},
     "output_type": "execute_result"
    }
   ],
   "source": [
    "arr"
   ]
  },
  {
   "cell_type": "code",
   "execution_count": 12,
   "id": "238a7859",
   "metadata": {},
   "outputs": [
    {
     "data": {
      "text/plain": [
       "array([99,  7,  8])"
      ]
     },
     "execution_count": 12,
     "metadata": {},
     "output_type": "execute_result"
    }
   ],
   "source": [
    " #To copy a sclice of the array\n",
    "arr_copy = arr[6:9].copy()\n",
    "arr_copy"
   ]
  },
  {
   "cell_type": "code",
   "execution_count": 13,
   "id": "1be534f8",
   "metadata": {},
   "outputs": [
    {
     "data": {
      "text/plain": [
       "array([0, 0, 0])"
      ]
     },
     "execution_count": 13,
     "metadata": {},
     "output_type": "execute_result"
    }
   ],
   "source": [
    "arr_copy[:]=0\n",
    "arr_copy"
   ]
  },
  {
   "cell_type": "code",
   "execution_count": 14,
   "id": "35510f6b",
   "metadata": {},
   "outputs": [
    {
     "data": {
      "text/plain": [
       "array([99, 99, 99, 99, 99, 99, 99,  7,  8,  9, 10, 11, 12, 13, 14, 15])"
      ]
     },
     "execution_count": 14,
     "metadata": {},
     "output_type": "execute_result"
    }
   ],
   "source": [
    "arr"
   ]
  },
  {
   "cell_type": "code",
   "execution_count": 15,
   "id": "6732873b",
   "metadata": {},
   "outputs": [
    {
     "data": {
      "text/plain": [
       "array([[ 5, 10, 15],\n",
       "       [20, 25, 30],\n",
       "       [35, 40, 45]])"
      ]
     },
     "execution_count": 15,
     "metadata": {},
     "output_type": "execute_result"
    }
   ],
   "source": [
    " #indexing in 2D Array\n",
    "arr_2d=np.array(([5,10,15],[20,25,30],[35,40,45]))\n",
    "arr_2d"
   ]
  },
  {
   "cell_type": "code",
   "execution_count": 16,
   "id": "bf6b910a",
   "metadata": {},
   "outputs": [
    {
     "data": {
      "text/plain": [
       "array([ 5, 10, 15])"
      ]
     },
     "execution_count": 16,
     "metadata": {},
     "output_type": "execute_result"
    }
   ],
   "source": [
    "#print a row index 0\n",
    "arr_2d[0] # arr_2d[0,:]"
   ]
  },
  {
   "cell_type": "code",
   "execution_count": 17,
   "id": "9a3b4e7d",
   "metadata": {},
   "outputs": [
    {
     "data": {
      "text/plain": [
       "array([10, 25, 40])"
      ]
     },
     "execution_count": 17,
     "metadata": {},
     "output_type": "execute_result"
    }
   ],
   "source": [
    "#print a column index 1\n",
    "arr_2d[:,1]"
   ]
  },
  {
   "cell_type": "code",
   "execution_count": 41,
   "id": "3dfa7f56",
   "metadata": {},
   "outputs": [
    {
     "data": {
      "text/plain": [
       "30"
      ]
     },
     "execution_count": 41,
     "metadata": {},
     "output_type": "execute_result"
    }
   ],
   "source": [
    "#indexing in 2D Array\n",
    "#Individual element value\n",
    "arr_2d[1][2]"
   ]
  },
  {
   "cell_type": "code",
   "execution_count": 42,
   "id": "f0a970e2",
   "metadata": {},
   "outputs": [
    {
     "data": {
      "text/plain": [
       "array([[10, 15],\n",
       "       [25, 30],\n",
       "       [40, 45]])"
      ]
     },
     "execution_count": 42,
     "metadata": {},
     "output_type": "execute_result"
    }
   ],
   "source": [
    "arr_2d[:3,1:]"
   ]
  },
  {
   "cell_type": "code",
   "execution_count": 44,
   "id": "837d7e00",
   "metadata": {},
   "outputs": [
    {
     "data": {
      "text/plain": [
       "array([[ 5, 15],\n",
       "       [20, 30],\n",
       "       [35, 45]])"
      ]
     },
     "execution_count": 44,
     "metadata": {},
     "output_type": "execute_result"
    }
   ],
   "source": [
    "arr_2d[:3, ::2] # all rows, every other column,2 steps"
   ]
  },
  {
   "cell_type": "code",
   "execution_count": 45,
   "id": "ff257e87",
   "metadata": {},
   "outputs": [
    {
     "data": {
      "text/plain": [
       "array([[ 1,  2,  3,  4],\n",
       "       [ 5,  6,  7,  8],\n",
       "       [ 9, 10, 11, 12]])"
      ]
     },
     "execution_count": 45,
     "metadata": {},
     "output_type": "execute_result"
    }
   ],
   "source": [
    "#create 3x4 matrix using arange function\n",
    "grid = np.arange(1, 13).reshape((3, 4))\n",
    "grid"
   ]
  },
  {
   "cell_type": "code",
   "execution_count": 46,
   "id": "6072c7f0",
   "metadata": {},
   "outputs": [
    {
     "data": {
      "text/plain": [
       "array([1, 2, 3, 3, 2, 1])"
      ]
     },
     "execution_count": 46,
     "metadata": {},
     "output_type": "execute_result"
    }
   ],
   "source": [
    " #Concatenation of arrays\n",
    "x = np.array([1, 2, 3])\n",
    "y = np.array([3, 2, 1])\n",
    "np.concatenate([x, y])"
   ]
  },
  {
   "cell_type": "code",
   "execution_count": 47,
   "id": "2bee5dda",
   "metadata": {},
   "outputs": [
    {
     "name": "stdout",
     "output_type": "stream",
     "text": [
      "[1 2 3] [99 99] [3 2 1]\n"
     ]
    }
   ],
   "source": [
    "#Splitting Arrays\n",
    "x = [1, 2, 3, 99, 99, 3, 2, 1]\n",
    "x1, x2, x3 = np.split(x, [3, 5]) #split at index 3 &5\n",
    "print(x1, x2, x3)"
   ]
  },
  {
   "cell_type": "code",
   "execution_count": 48,
   "id": "5e8241c5",
   "metadata": {},
   "outputs": [
    {
     "name": "stdout",
     "output_type": "stream",
     "text": [
      "[[ 0  1  2  3]\n",
      " [ 4  5  6  7]\n",
      " [ 8  9 10 11]\n",
      " [12 13 14 15]]\n",
      "\n",
      "\n",
      "[[0 1 2 3]\n",
      " [4 5 6 7]]\n",
      "\n",
      "\n",
      "[[ 8  9 10 11]\n",
      " [12 13 14 15]]\n"
     ]
    }
   ],
   "source": [
    " #Splitting 2D Array\n",
    "#Horizontal Split\n",
    "grid = np.arange(16).reshape((4, 4))\n",
    "print(grid)\n",
    "print(\"\\n\")\n",
    "upper, lower = np.vsplit(grid, [2]) #give the index\n",
    "print(upper)\n",
    "print(\"\\n\")\n",
    "print(lower)"
   ]
  },
  {
   "cell_type": "code",
   "execution_count": 21,
   "id": "7f923eba",
   "metadata": {},
   "outputs": [
    {
     "data": {
      "text/plain": [
       "array([[2, 4],\n",
       "       [6, 8]])"
      ]
     },
     "execution_count": 21,
     "metadata": {},
     "output_type": "execute_result"
    }
   ],
   "source": [
    "arr = np.array([[1,2],[3,4]])\n",
    "arr*2"
   ]
  },
  {
   "cell_type": "code",
   "execution_count": 22,
   "id": "19d847c6",
   "metadata": {},
   "outputs": [
    {
     "data": {
      "text/plain": [
       "array([[ 6,  7,  8],\n",
       "       [ 9, 10, 11],\n",
       "       [12, 13, 14]])"
      ]
     },
     "execution_count": 22,
     "metadata": {},
     "output_type": "execute_result"
    }
   ],
   "source": [
    "arr = np.array([[1,2,3],[4,5,6],[7,8,9]])\n",
    "arr +5"
   ]
  },
  {
   "cell_type": "code",
   "execution_count": 24,
   "id": "952a6d98",
   "metadata": {},
   "outputs": [
    {
     "data": {
      "text/plain": [
       "array([[-9, -8, -7,  0],\n",
       "       [-6, -5, -4,  1],\n",
       "       [-3, -2, -1,  2],\n",
       "       [ 3,  4,  5,  6]])"
      ]
     },
     "execution_count": 24,
     "metadata": {},
     "output_type": "execute_result"
    }
   ],
   "source": [
    "arr = np.array([[1,2,3,10],[4,5,6,11],[7,8,9,12],[13,14,15,16]])\n",
    "arr -10"
   ]
  },
  {
   "cell_type": "code",
   "execution_count": 26,
   "id": "1006e3aa",
   "metadata": {},
   "outputs": [
    {
     "data": {
      "text/plain": [
       "array([[ 0.5,  1. ,  1.5,  2. ,  2.5],\n",
       "       [ 3. ,  3.5,  4. ,  4.5,  5. ],\n",
       "       [ 5.5,  6. ,  6.5,  7. ,  7.5],\n",
       "       [ 8. ,  8.5,  9. ,  9.5, 10. ],\n",
       "       [10.5, 11. , 11.5, 12. , 12.5]])"
      ]
     },
     "execution_count": 26,
     "metadata": {},
     "output_type": "execute_result"
    }
   ],
   "source": [
    "arr = np.array([[1,2,3,4,5],[6,7,8,9,10],[11,12,13,14,15],[16,17,18,19,20],[21,22,23,24,25]])\n",
    "arr/2"
   ]
  },
  {
   "cell_type": "code",
   "execution_count": 29,
   "id": "d3f45220",
   "metadata": {},
   "outputs": [
    {
     "data": {
      "text/plain": [
       "array([[1.        , 1.41421356, 1.73205081, 2.        , 2.23606798,\n",
       "        2.44948974],\n",
       "       [2.64575131, 2.82842712, 3.        , 3.16227766, 3.31662479,\n",
       "        3.46410162],\n",
       "       [3.60555128, 3.74165739, 3.87298335, 4.        , 4.12310563,\n",
       "        4.24264069],\n",
       "       [4.35889894, 4.47213595, 4.58257569, 4.69041576, 4.79583152,\n",
       "        4.89897949],\n",
       "       [5.        , 5.09901951, 5.19615242, 5.29150262, 5.38516481,\n",
       "        5.47722558],\n",
       "       [5.56776436, 5.65685425, 5.74456265, 5.83095189, 5.91607978,\n",
       "        6.        ]])"
      ]
     },
     "execution_count": 29,
     "metadata": {},
     "output_type": "execute_result"
    }
   ],
   "source": [
    "arr = np.array([[1,2,3,4,5,6],[7,8,9,10,11,12],[13,14,15,16,17,18],[19,20,21,22,23,24],[25,26,27,28,29,30],[31,32,33,34,35,36]])\n",
    "np.sqrt(arr)"
   ]
  },
  {
   "cell_type": "code",
   "execution_count": 35,
   "id": "2c349d37",
   "metadata": {},
   "outputs": [
    {
     "data": {
      "text/plain": [
       "array([[18, 12],\n",
       "       [30, 21]])"
      ]
     },
     "execution_count": 35,
     "metadata": {},
     "output_type": "execute_result"
    }
   ],
   "source": [
    "a = np.array([[2, 3],\n",
    "              [5, 9]])\n",
    "a = a.T\n",
    "b = np.array([[4, 1],\n",
    "              [2, 2]])\n",
    "np.matmul(a, b)"
   ]
  },
  {
   "cell_type": "code",
   "execution_count": 37,
   "id": "69a91474",
   "metadata": {},
   "outputs": [
    {
     "name": "stdout",
     "output_type": "stream",
     "text": [
      "Dot Product  : \n",
      " [[1102  564  288]\n",
      " [ 355  193  155]\n",
      " [ 989  534  403]]\n",
      "\n",
      "Dot Product  : \n",
      " [[ 166  188  316]\n",
      " [  51   71  194]\n",
      " [ 292  461 1461]]\n"
     ]
    }
   ],
   "source": [
    "vector_a = np.array([[1, 4, 24], [5, 6, 7],[12 , 13 , 20]])\n",
    "vector_b = np.array([[2, 4, 12], [5, 2, 3], [45 , 23, 11]])\n",
    " \n",
    "product = np.dot(vector_a, vector_b)\n",
    "print(\"Dot Product  : \\n\", product)\n",
    " \n",
    "product = np.dot(vector_b, vector_a)\n",
    "print(\"\\nDot Product  : \\n\", product)"
   ]
  },
  {
   "cell_type": "code",
   "execution_count": 38,
   "id": "48603579",
   "metadata": {},
   "outputs": [
    {
     "data": {
      "text/plain": [
       "array([[1102,  564],\n",
       "       [ 355,  193]])"
      ]
     },
     "execution_count": 38,
     "metadata": {},
     "output_type": "execute_result"
    }
   ],
   "source": [
    "vector_a = np.array([[1, 4, 24], \n",
    "                     [5, 6, 7]])\n",
    "vector_b = np.array([[2, 4],\n",
    "                     [5, 2], \n",
    "                     [45 , 23]])\n",
    "np.matmul(vector_a,vector_b)"
   ]
  },
  {
   "cell_type": "code",
   "execution_count": 40,
   "id": "7816554a",
   "metadata": {},
   "outputs": [
    {
     "data": {
      "text/plain": [
       "array([[1102,  564],\n",
       "       [ 355,  193]])"
      ]
     },
     "execution_count": 40,
     "metadata": {},
     "output_type": "execute_result"
    }
   ],
   "source": [
    "vector_a = np.array([[1, 4, 24], \n",
    "                     [5, 6, 7]])\n",
    "vector_b = np.array([[2, 4],\n",
    "                     [5, 2], \n",
    "                     [45 , 23]])\n",
    "np.dot(vector_a,vector_b)"
   ]
  },
  {
   "cell_type": "code",
   "execution_count": 49,
   "id": "bb99e89c",
   "metadata": {},
   "outputs": [
    {
     "data": {
      "text/plain": [
       "2"
      ]
     },
     "execution_count": 49,
     "metadata": {},
     "output_type": "execute_result"
    }
   ],
   "source": [
    "arr = [0,1,2,3,4,5,6,7,8,9]\n",
    "arr[2]"
   ]
  },
  {
   "cell_type": "code",
   "execution_count": 50,
   "id": "590160a4",
   "metadata": {},
   "outputs": [
    {
     "data": {
      "text/plain": [
       "4"
      ]
     },
     "execution_count": 50,
     "metadata": {},
     "output_type": "execute_result"
    }
   ],
   "source": [
    "arr = np.array([[1,2,3],\n",
    "                [4,5,6],\n",
    "                [7,8,9]])\n",
    "arr[1][0]"
   ]
  },
  {
   "cell_type": "code",
   "execution_count": 58,
   "id": "617ebaa9",
   "metadata": {},
   "outputs": [
    {
     "data": {
      "text/plain": [
       "array([[0.32107649, 0.86910381, 0.31372545, 0.54852039],\n",
       "       [0.66163393, 0.97920237, 0.89429838, 0.31479827],\n",
       "       [0.26090234, 0.86297462, 0.43285155, 0.8161542 ],\n",
       "       [0.21813445, 0.82818097, 0.86232169, 0.02992098]])"
      ]
     },
     "execution_count": 58,
     "metadata": {},
     "output_type": "execute_result"
    }
   ],
   "source": [
    "import numpy as np\n",
    "\n",
    "rows = 4\n",
    "cols = 4\n",
    "\n",
    "arr = np.random.rand(rows, cols)\n",
    "arr"
   ]
  },
  {
   "cell_type": "code",
   "execution_count": 59,
   "id": "78ecbef7",
   "metadata": {},
   "outputs": [
    {
     "data": {
      "text/plain": [
       "array([[0.31372545, 0.54852039],\n",
       "       [0.89429838, 0.31479827]])"
      ]
     },
     "execution_count": 59,
     "metadata": {},
     "output_type": "execute_result"
    }
   ],
   "source": [
    "arr[:2,2:]"
   ]
  },
  {
   "cell_type": "code",
   "execution_count": 64,
   "id": "cadb0a9a",
   "metadata": {},
   "outputs": [
    {
     "data": {
      "text/plain": [
       "[0, 1, 2]"
      ]
     },
     "execution_count": 64,
     "metadata": {},
     "output_type": "execute_result"
    }
   ],
   "source": [
    "arr = [0,1,2,3,4,5,6,7,8,9]\n",
    "c_arr = arr.copy()\n",
    "c_arr[0:3]"
   ]
  },
  {
   "cell_type": "code",
   "execution_count": 65,
   "id": "c0731952",
   "metadata": {},
   "outputs": [
    {
     "data": {
      "text/plain": [
       "array([[0.1064701 , 0.7493227 , 0.23323035],\n",
       "       [0.46790573, 0.0291675 , 0.32857286],\n",
       "       [0.73422039, 0.28377549, 0.30592375]])"
      ]
     },
     "execution_count": 65,
     "metadata": {},
     "output_type": "execute_result"
    }
   ],
   "source": [
    "rows = 3\n",
    "cols = 3\n",
    "\n",
    "arr = np.random.rand(rows, cols)\n",
    "arr"
   ]
  },
  {
   "cell_type": "code",
   "execution_count": 66,
   "id": "224e1ce2",
   "metadata": {},
   "outputs": [
    {
     "data": {
      "text/plain": [
       "array([[0.1064701 , 0.7493227 ],\n",
       "       [0.46790573, 0.0291675 ]])"
      ]
     },
     "execution_count": 66,
     "metadata": {},
     "output_type": "execute_result"
    }
   ],
   "source": [
    "c_arr = arr.copy()\n",
    "c_arr[:2,:2]"
   ]
  },
  {
   "cell_type": "code",
   "execution_count": 70,
   "id": "9c52f43d",
   "metadata": {},
   "outputs": [
    {
     "data": {
      "text/plain": [
       "array([[1, 2, 3],\n",
       "       [4, 5, 6],\n",
       "       [7, 8, 9]])"
      ]
     },
     "execution_count": 70,
     "metadata": {},
     "output_type": "execute_result"
    }
   ],
   "source": [
    "arr = [1,2,3,4,5,6,7,8,9]\n",
    "np.reshape(arr,[3,3])"
   ]
  },
  {
   "cell_type": "code",
   "execution_count": 71,
   "id": "aa56de0c",
   "metadata": {},
   "outputs": [
    {
     "data": {
      "text/plain": [
       "array([[0.77121246, 0.59924257, 0.1732238 , 0.13870337],\n",
       "       [0.86356902, 0.21236251, 0.35373506, 0.84455008],\n",
       "       [0.36452867, 0.03130029, 0.65147561, 0.88457733],\n",
       "       [0.21027913, 0.65714877, 0.77083393, 0.83622778]])"
      ]
     },
     "execution_count": 71,
     "metadata": {},
     "output_type": "execute_result"
    }
   ],
   "source": [
    "rows = 4\n",
    "cols = 4\n",
    "\n",
    "arr = np.random.rand(rows, cols)\n",
    "arr"
   ]
  },
  {
   "cell_type": "code",
   "execution_count": 78,
   "id": "2002d38c",
   "metadata": {},
   "outputs": [
    {
     "data": {
      "text/plain": [
       "array([0.77121246, 0.59924257, 0.1732238 , 0.13870337, 0.86356902,\n",
       "       0.21236251, 0.35373506, 0.84455008, 0.36452867, 0.03130029,\n",
       "       0.65147561, 0.88457733, 0.21027913, 0.65714877, 0.77083393,\n",
       "       0.83622778])"
      ]
     },
     "execution_count": 78,
     "metadata": {},
     "output_type": "execute_result"
    }
   ],
   "source": [
    "np.reshape(arr,16)"
   ]
  },
  {
   "cell_type": "code",
   "execution_count": 83,
   "id": "e2b95740",
   "metadata": {},
   "outputs": [
    {
     "data": {
      "text/plain": [
       "array([0, 1, 2, 3, 4, 0, 1, 2, 3, 4])"
      ]
     },
     "execution_count": 83,
     "metadata": {},
     "output_type": "execute_result"
    }
   ],
   "source": [
    "arr1 = np.array([0,1,2,3,4])\n",
    "arr2 = np.array([0,1,2,3,4])\n",
    "arr = np.concatenate((arr1,arr2),axis=0)\n",
    "arr"
   ]
  },
  {
   "cell_type": "code",
   "execution_count": 85,
   "id": "e22d2847",
   "metadata": {},
   "outputs": [
    {
     "data": {
      "text/plain": [
       "array([[ 0, 10,  0,  1,  3],\n",
       "       [ 3,  4,  2,  3,  4]])"
      ]
     },
     "execution_count": 85,
     "metadata": {},
     "output_type": "execute_result"
    }
   ],
   "source": [
    "arr1 = np.array([[0,10],[3,4]])\n",
    "arr2 = np.array([[0,1,3],[2,3,4]])\n",
    "arr = np.concatenate((arr1,arr2),axis=1)\n",
    "arr"
   ]
  },
  {
   "cell_type": "code",
   "execution_count": 87,
   "id": "b0a027e6",
   "metadata": {},
   "outputs": [
    {
     "data": {
      "text/plain": [
       "array([[ 0, 10],\n",
       "       [ 3,  4],\n",
       "       [ 0,  1],\n",
       "       [ 2,  3],\n",
       "       [ 7,  5]])"
      ]
     },
     "execution_count": 87,
     "metadata": {},
     "output_type": "execute_result"
    }
   ],
   "source": [
    "arr1 = np.array([[0,10],[3,4]])\n",
    "arr2 = np.array([[0,1],[2,3],[7,5]])\n",
    "arr = np.concatenate((arr1,arr2),axis=0)\n",
    "arr"
   ]
  },
  {
   "cell_type": "code",
   "execution_count": 91,
   "id": "1f469bb0",
   "metadata": {},
   "outputs": [
    {
     "data": {
      "text/plain": [
       "[0, 2, 0, 4, 0, 6, 0, 8, 0]"
      ]
     },
     "execution_count": 91,
     "metadata": {},
     "output_type": "execute_result"
    }
   ],
   "source": [
    "arr = [1,2,3,4,5,6,7,8,9]\n",
    "for i in arr:\n",
    "    if arr[i] %2 != 0:\n",
    "        arr[i] = 0\n",
    "arr"
   ]
  },
  {
   "cell_type": "code",
   "execution_count": 92,
   "id": "57289e2a",
   "metadata": {},
   "outputs": [
    {
     "data": {
      "text/plain": [
       "array([[0.25567973, 0.86645516, 0.20152709],\n",
       "       [0.88527231, 0.07756495, 0.72276545],\n",
       "       [0.26470529, 0.79911023, 0.9733031 ]])"
      ]
     },
     "execution_count": 92,
     "metadata": {},
     "output_type": "execute_result"
    }
   ],
   "source": [
    "rows = 3\n",
    "cols = 3\n",
    "\n",
    "arr = np.random.rand(rows, cols)\n",
    "arr"
   ]
  },
  {
   "cell_type": "code",
   "execution_count": 93,
   "id": "1567d239",
   "metadata": {},
   "outputs": [
    {
     "data": {
      "text/plain": [
       "array([[0.        , 0.        , 0.        ],\n",
       "       [0.88527231, 0.07756495, 0.72276545],\n",
       "       [0.26470529, 0.79911023, 0.9733031 ]])"
      ]
     },
     "execution_count": 93,
     "metadata": {},
     "output_type": "execute_result"
    }
   ],
   "source": [
    "arr[:1,:] = 0\n",
    "arr"
   ]
  },
  {
   "cell_type": "code",
   "execution_count": 94,
   "id": "9856e9fa",
   "metadata": {},
   "outputs": [
    {
     "data": {
      "text/plain": [
       "array([[0.07064541, 0.79534343, 0.89184279],\n",
       "       [0.17382195, 0.49508774, 0.53022009],\n",
       "       [0.32658066, 0.19840545, 0.5361268 ]])"
      ]
     },
     "execution_count": 94,
     "metadata": {},
     "output_type": "execute_result"
    }
   ],
   "source": [
    "rows = 3\n",
    "cols = 3\n",
    "\n",
    "arr = np.random.rand(rows, cols)\n",
    "arr"
   ]
  },
  {
   "cell_type": "code",
   "execution_count": 96,
   "id": "c41fb6e7",
   "metadata": {},
   "outputs": [
    {
     "data": {
      "text/plain": [
       "array([[0.07064541, 0.79534343, 0.        ],\n",
       "       [0.17382195, 0.49508774, 0.        ],\n",
       "       [0.32658066, 0.19840545, 0.        ]])"
      ]
     },
     "execution_count": 96,
     "metadata": {},
     "output_type": "execute_result"
    }
   ],
   "source": [
    "arr[:,2:] = 0\n",
    "arr"
   ]
  },
  {
   "cell_type": "code",
   "execution_count": 102,
   "id": "1277ed8a",
   "metadata": {},
   "outputs": [
    {
     "name": "stdout",
     "output_type": "stream",
     "text": [
      "2 4 6 8 10 12 14 16 18 "
     ]
    }
   ],
   "source": [
    "arr = [1,2,3,4,5,6,7,8,9]\n",
    "ar = arr.copy()\n",
    "for i in ar:\n",
    "    print(i*2,end=\" \")"
   ]
  },
  {
   "cell_type": "code",
   "execution_count": 103,
   "id": "a3be832a",
   "metadata": {},
   "outputs": [
    {
     "data": {
      "text/plain": [
       "array([[-1.281175  ,  0.58435762, -0.32324163, -2.74699793, -0.24348447],\n",
       "       [-0.2572571 ,  0.36987736, -1.40962998, -0.5644403 ,  0.14172199],\n",
       "       [ 2.26858733, -0.7171223 ,  0.68439594,  3.37943491, -0.51757784],\n",
       "       [-0.86723443,  0.77055203, -0.14634385, -0.75277692, -1.10515349],\n",
       "       [ 0.0848651 , -0.92205089, -1.23570577, -0.34571089, -0.08627749]])"
      ]
     },
     "execution_count": 103,
     "metadata": {},
     "output_type": "execute_result"
    }
   ],
   "source": [
    "from numpy.random import randn\n",
    "arr = randn(5,5)\n",
    "arr"
   ]
  },
  {
   "cell_type": "code",
   "execution_count": 104,
   "id": "61b92567",
   "metadata": {},
   "outputs": [
    {
     "data": {
      "text/plain": [
       "array([[ 0.78578283,  3.19858494,  5.14472712,  1.94573394,  2.74134168],\n",
       "       [ 1.18322457,  3.79311889,  2.13170447, -0.27724193, -0.17666737],\n",
       "       [ 3.11086946,  2.98339234, -1.48974389,  3.7507816 ,  0.5838337 ],\n",
       "       [ 3.37809305,  2.61348569,  1.69529733,  3.23335244,  3.22930422],\n",
       "       [ 3.26550928,  2.34435567,  0.72681333,  1.80259651,  1.42299984]])"
      ]
     },
     "execution_count": 104,
     "metadata": {},
     "output_type": "execute_result"
    }
   ],
   "source": [
    "#mean = 2 ,std = 1.5,randn(5,5) -> z_scoresS\n",
    "arr = 2+1.5*randn(5,5)\n",
    "arr"
   ]
  },
  {
   "cell_type": "code",
   "execution_count": null,
   "id": "19685d4f",
   "metadata": {},
   "outputs": [],
   "source": []
  }
 ],
 "metadata": {
  "kernelspec": {
   "display_name": "Python 3 (ipykernel)",
   "language": "python",
   "name": "python3"
  },
  "language_info": {
   "codemirror_mode": {
    "name": "ipython",
    "version": 3
   },
   "file_extension": ".py",
   "mimetype": "text/x-python",
   "name": "python",
   "nbconvert_exporter": "python",
   "pygments_lexer": "ipython3",
   "version": "3.9.13"
  }
 },
 "nbformat": 4,
 "nbformat_minor": 5
}
