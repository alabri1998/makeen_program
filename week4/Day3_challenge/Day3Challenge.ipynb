{
 "cells": [
  {
   "cell_type": "code",
   "execution_count": 22,
   "id": "3ded81b2",
   "metadata": {},
   "outputs": [
    {
     "name": "stdout",
     "output_type": "stream",
     "text": [
      "Oman occupes 0.2 % of total world land\n",
      "China occupes 6.42 % of total world land\n"
     ]
    }
   ],
   "source": [
    "import math\n",
    "def area(country,country_area):\n",
    "    global_area = 148940000\n",
    "    res = (country_area/global_area)*100\n",
    "    print(country , \"occupes\", math.trunc(res * 100) / 100 , \"% of total world land\")\n",
    "area('Oman', 309501)\n",
    "area('China', 9562910)"
   ]
  },
  {
   "cell_type": "code",
   "execution_count": null,
   "id": "dc536dc3",
   "metadata": {},
   "outputs": [],
   "source": []
  },
  {
   "cell_type": "code",
   "execution_count": null,
   "id": "d9bd7323",
   "metadata": {},
   "outputs": [],
   "source": []
  }
 ],
 "metadata": {
  "kernelspec": {
   "display_name": "Python 3 (ipykernel)",
   "language": "python",
   "name": "python3"
  },
  "language_info": {
   "codemirror_mode": {
    "name": "ipython",
    "version": 3
   },
   "file_extension": ".py",
   "mimetype": "text/x-python",
   "name": "python",
   "nbconvert_exporter": "python",
   "pygments_lexer": "ipython3",
   "version": "3.7.1"
  }
 },
 "nbformat": 4,
 "nbformat_minor": 5
}
