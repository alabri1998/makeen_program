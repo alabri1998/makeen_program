{
 "cells": [
  {
   "cell_type": "code",
   "execution_count": 7,
   "id": "618dd961",
   "metadata": {},
   "outputs": [
    {
     "name": "stdout",
     "output_type": "stream",
     "text": [
      "2\n",
      "your name is ahmed your age is 24\n"
     ]
    }
   ],
   "source": [
    "class Person:\n",
    "    no_of_persons = 0\n",
    "    def __init__(self,name,age):\n",
    "        self.name = name\n",
    "        self.__age = age\n",
    "        Person.no_of_persons+=1\n",
    "    def __str__(self):\n",
    "        return \"your name is \" + self.name + \" your age is \" + str(self.__age)\n",
    "    def set_age(self,new_age):\n",
    "        self.__age = new_age\n",
    "p1 = Person(\"ahmed\",24)\n",
    "p2 = Person(\"abdallah\", 23)\n",
    "print(Person.no_of_persons)\n",
    "print(p1.__str__())"
   ]
  },
  {
   "cell_type": "code",
   "execution_count": 33,
   "id": "fbf4e9f3",
   "metadata": {},
   "outputs": [
    {
     "name": "stdout",
     "output_type": "stream",
     "text": [
      "('1', 'ahmed', 1000, 'IT')\n",
      "('1', 'ahmed', 1000, 'computer science')\n",
      "your overtime amount is 0\n",
      "\n",
      "('2', 'abdallah', 1000, 'Computer science')\n",
      "your overtime amount is 100.0\n"
     ]
    }
   ],
   "source": [
    "class Employee:\n",
    "    def __init__(self,emp_id,emp_name,emp_salary,emp_department):\n",
    "        self.emp_id = emp_id\n",
    "        self.emp_name = emp_name\n",
    "        self.emp_salary = emp_salary\n",
    "        self.__emp_department = emp_department\n",
    "    def assign_department(self,new_department):\n",
    "        self.__emp_department = new_department\n",
    "    def print_employee_details(self):\n",
    "        return self.emp_name , self.emp_id, self.emp_salary, self.__emp_department\n",
    "    def calculate_emp_salary(self , emp_worked_hours):\n",
    "        if emp_worked_hours > 50:\n",
    "            overtime = emp_worked_hours - 50\n",
    "            over_time_amount = (overtime * (self.emp_salary/50))\n",
    "            return over_time_amount\n",
    "        return 0\n",
    "p1 = Employee(\"ahmed\" , \"1\" , 1000 , \"IT\" )\n",
    "print(p1.print_employee_details())\n",
    "p1.assign_department(\"computer science\")\n",
    "print(p1.print_employee_details())\n",
    "print(\"your overtime amount is \" + str(p1.calculate_emp_salary(50)))\n",
    "print()\n",
    "p2 = Employee(\"abdallah\" , \"2\" , 1000 , \"Computer science\")\n",
    "print(p2.print_employee_details())\n",
    "print(\"your overtime amount is \" + str(p2.calculate_emp_salary(55)))"
   ]
  },
  {
   "cell_type": "code",
   "execution_count": 54,
   "id": "d1de0792",
   "metadata": {},
   "outputs": [
    {
     "name": "stdout",
     "output_type": "stream",
     "text": [
      "['pizza', 'shawirma', 'kbab', 'dew', 'vimto']\n",
      "you order pizza\n",
      "you order shawirma\n",
      "your order burger is not in menu\n"
     ]
    }
   ],
   "source": [
    "\"Resturant example\"\n",
    "class Resturant:\n",
    "    menu_items = []\n",
    "    def __init__(self, menu_items: list ,customers_orders: list ,book_table):\n",
    "        self.menu_items = menu_items\n",
    "        self.customers_orders = customers_orders\n",
    "        self.book_table = book_table\n",
    "    def add_item_to_menu(self,item):\n",
    "            self.menu_items.append(item)\n",
    "    def print_menu(self):\n",
    "        return self.menu_items\n",
    "    def get_order(self):\n",
    "        return self.customers_orders\n",
    "    \n",
    "ord1 = Resturant([\"pizza\" , \"shawirma\" , \"kbab\", \"dew\"] ,[\"pizza\" , \"shawirma\", \"burger\"] ,1)\n",
    "ord1.add_item_to_menu('vimto')\n",
    "print(ord1.print_menu())\n",
    "orders = ord1.get_order()\n",
    "for order in orders:\n",
    "    if order in ord1.print_menu():\n",
    "        print(\"you order\" , order)\n",
    "    else:\n",
    "        print(\"your order\" , order , \"is not in menu\")"
   ]
  },
  {
   "cell_type": "code",
   "execution_count": 69,
   "id": "cb9d4e0d",
   "metadata": {},
   "outputs": [
    {
     "name": "stdout",
     "output_type": "stream",
     "text": [
      "your balance is 110\n",
      "your balance is 120\n",
      "your balance is 50\n"
     ]
    }
   ],
   "source": [
    "\"Bank oop example\"\n",
    "class BankAaccount:\n",
    "    def __init__(self, customer_name ,balance, account_number , date_of_opening):\n",
    "        self.customer_name = customer_name\n",
    "        self.balance = balance\n",
    "        self.account_number = account_number\n",
    "        self.date_of_opening = date_of_opening\n",
    "    def deposit(self , amount):\n",
    "        self.balance +=amount\n",
    "    def withdraw(self , amount):\n",
    "        if self.balance < amount:\n",
    "            print('you exceed your balance')\n",
    "        else:\n",
    "            self.balance -=amount\n",
    "    def check_balance(self):\n",
    "        return self.balance\n",
    "ac1 = BankAaccount(\"ahmed\" , 110 , 2345442 , \"12-10-2018\")\n",
    "print(\"your balance is\", ac1.check_balance())\n",
    "ac1.deposit(10)\n",
    "print(\"your balance is\", ac1.check_balance())\n",
    "ac1.withdraw(70)\n",
    "print(\"your balance is\", ac1.check_balance())"
   ]
  },
  {
   "cell_type": "code",
   "execution_count": null,
   "id": "ded13462",
   "metadata": {},
   "outputs": [],
   "source": []
  },
  {
   "cell_type": "code",
   "execution_count": null,
   "id": "c2ed577b",
   "metadata": {},
   "outputs": [],
   "source": []
  }
 ],
 "metadata": {
  "kernelspec": {
   "display_name": "Python 3 (ipykernel)",
   "language": "python",
   "name": "python3"
  },
  "language_info": {
   "codemirror_mode": {
    "name": "ipython",
    "version": 3
   },
   "file_extension": ".py",
   "mimetype": "text/x-python",
   "name": "python",
   "nbconvert_exporter": "python",
   "pygments_lexer": "ipython3",
   "version": "3.9.13"
  }
 },
 "nbformat": 4,
 "nbformat_minor": 5
}
