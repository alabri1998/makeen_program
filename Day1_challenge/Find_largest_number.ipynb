{
 "cells": [
  {
   "cell_type": "code",
   "execution_count": 11,
   "id": "2055c708",
   "metadata": {},
   "outputs": [
    {
     "name": "stdout",
     "output_type": "stream",
     "text": [
      "Enter a num1: 22\n",
      "Enter a num2: 33\n",
      "Enter a num3: 43\n"
     ]
    }
   ],
   "source": [
    "num1 = int(input(\"Enter a num1: \"))\n",
    "num2 = int(input(\"Enter a num2: \"))\n",
    "num3 = int(input(\"Enter a num3: \"))"
   ]
  },
  {
   "cell_type": "code",
   "execution_count": 12,
   "id": "eb0e5e09",
   "metadata": {},
   "outputs": [
    {
     "name": "stdout",
     "output_type": "stream",
     "text": [
      "the biggest number is 43\n"
     ]
    }
   ],
   "source": [
    "if num1 > num2 > num3:\n",
    "    print(\"the biggest number is\", num1)\n",
    "elif num2 > num1 > num3:\n",
    "    print(\"the biggest number is\", num2)\n",
    "elif num3 > num2 > num1:\n",
    "    print(\"the biggest number is\", num3)\n",
    "else:\n",
    "    print(\"Numbers are equals\")"
   ]
  },
  {
   "cell_type": "code",
   "execution_count": null,
   "id": "fda07ef4",
   "metadata": {},
   "outputs": [],
   "source": []
  },
  {
   "cell_type": "code",
   "execution_count": null,
   "id": "4b03aced",
   "metadata": {},
   "outputs": [],
   "source": []
  },
  {
   "cell_type": "code",
   "execution_count": null,
   "id": "6ffa0c57",
   "metadata": {},
   "outputs": [],
   "source": []
  }
 ],
 "metadata": {
  "kernelspec": {
   "display_name": "Python 3 (ipykernel)",
   "language": "python",
   "name": "python3"
  },
  "language_info": {
   "codemirror_mode": {
    "name": "ipython",
    "version": 3
   },
   "file_extension": ".py",
   "mimetype": "text/x-python",
   "name": "python",
   "nbconvert_exporter": "python",
   "pygments_lexer": "ipython3",
   "version": "3.7.1"
  }
 },
 "nbformat": 4,
 "nbformat_minor": 5
}
