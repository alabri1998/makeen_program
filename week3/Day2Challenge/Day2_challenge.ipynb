{
 "cells": [
  {
   "cell_type": "code",
   "execution_count": 1,
   "id": "92881e72",
   "metadata": {},
   "outputs": [
    {
     "name": "stdout",
     "output_type": "stream",
     "text": [
      "4\n"
     ]
    }
   ],
   "source": [
    "\n",
    "def most_frequent_number(lst):\n",
    "  counts = {}\n",
    "  for num in lst:\n",
    "    if num in counts:\n",
    "      counts[num] += 1\n",
    "    else:\n",
    "      counts[num] = 1\n",
    "  max_count = 0\n",
    "  max_num = None\n",
    "  for num, count in counts.items():\n",
    "    if count > max_count:\n",
    "      max_count = count\n",
    "      max_num = num\n",
    "  print(max_num)\n",
    "\n",
    "lst = [1,2,3,4,5,4,3,2,1,4]\n",
    "most_frequent_number(lst) \n"
   ]
  },
  {
   "cell_type": "code",
   "execution_count": null,
   "id": "ea949caf",
   "metadata": {},
   "outputs": [],
   "source": []
  }
 ],
 "metadata": {
  "kernelspec": {
   "display_name": "Python 3 (ipykernel)",
   "language": "python",
   "name": "python3"
  },
  "language_info": {
   "codemirror_mode": {
    "name": "ipython",
    "version": 3
   },
   "file_extension": ".py",
   "mimetype": "text/x-python",
   "name": "python",
   "nbconvert_exporter": "python",
   "pygments_lexer": "ipython3",
   "version": "3.7.1"
  }
 },
 "nbformat": 4,
 "nbformat_minor": 5
}
