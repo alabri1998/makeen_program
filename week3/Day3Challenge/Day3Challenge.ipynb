{
 "cells": [
  {
   "cell_type": "code",
   "execution_count": 3,
   "id": "5bbb0be9",
   "metadata": {},
   "outputs": [
    {
     "name": "stdout",
     "output_type": "stream",
     "text": [
      "2\n"
     ]
    }
   ],
   "source": [
    "# Assuming the input is a square matrix\n",
    "def diagonal_sum(matrix):\n",
    "  # Initialize the sums to zero\n",
    "  sum_1 = 0\n",
    "  sum_2 = 0\n",
    "  # Get the length of the matrix\n",
    "  n = len(matrix)\n",
    "  # Loop through the rows of the matrix\n",
    "  for i in range(n):\n",
    "    # Add the element at the i-th row and i-th column to sum_1\n",
    "    sum_1 += matrix[i][i]\n",
    "    # Add the element at the i-th row and (n-1-i)-th column to sum_2\n",
    "    sum_2 += matrix[i][n-1-i]\n",
    "  # Return the sums as a tuple\n",
    "  return (abs(sum_1-sum_2))\n",
    "\n",
    "# Test with an example input\n",
    "matrix = [[1,2,3],[4,5,6],[9,8,9]]\n",
    "print(diagonal_sum(matrix)) # (15, 17)\n"
   ]
  },
  {
   "cell_type": "code",
   "execution_count": null,
   "id": "c7c127dc",
   "metadata": {},
   "outputs": [],
   "source": []
  }
 ],
 "metadata": {
  "kernelspec": {
   "display_name": "Python 3 (ipykernel)",
   "language": "python",
   "name": "python3"
  },
  "language_info": {
   "codemirror_mode": {
    "name": "ipython",
    "version": 3
   },
   "file_extension": ".py",
   "mimetype": "text/x-python",
   "name": "python",
   "nbconvert_exporter": "python",
   "pygments_lexer": "ipython3",
   "version": "3.7.1"
  }
 },
 "nbformat": 4,
 "nbformat_minor": 5
}
