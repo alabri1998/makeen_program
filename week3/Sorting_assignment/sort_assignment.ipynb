{
 "cells": [
  {
   "cell_type": "code",
   "execution_count": null,
   "id": "2e2d2515",
   "metadata": {},
   "outputs": [
    {
     "name": "stdout",
     "output_type": "stream",
     "text": [
      "Enter list of numbers: 10 20 9 8\n",
      "[10, 20, 9, 8]\n",
      "Original array is: [10, 20, 9, 8]\n",
      "Enter sorting algorithm (bubble/mergesort/selection): mergesort\n",
      "Sorted array is: [8, 9, 10, 20]\n"
     ]
    }
   ],
   "source": [
    "def bubble_sort(arr):\n",
    "    n = len(arr)\n",
    "    for i in range(n):\n",
    "        for j in range(0, n-i-1):\n",
    "            if arr[j] > arr[j+1]:\n",
    "                arr[j], arr[j+1] = arr[j+1], arr[j]\n",
    "\n",
    "def merge_sort(arr):\n",
    "    if len(arr) > 1:\n",
    "        mid = len(arr) // 2\n",
    "        left_half = arr[:mid]\n",
    "        right_half = arr[mid:]\n",
    "\n",
    "        merge_sort(left_half)\n",
    "        merge_sort(right_half)\n",
    "\n",
    "        i = j = k = 0\n",
    "\n",
    "        while i < len(left_half) and j < len(right_half):\n",
    "            if left_half[i] < right_half[j]:\n",
    "                arr[k] = left_half[i]\n",
    "                i += 1\n",
    "            else:\n",
    "                arr[k] = right_half[j]\n",
    "                j += 1\n",
    "            k += 1\n",
    "\n",
    "        while i < len(left_half):\n",
    "            arr[k] = left_half[i]\n",
    "            i += 1\n",
    "            k += 1\n",
    "\n",
    "        while j < len(right_half):\n",
    "            arr[k] = right_half[j]\n",
    "            j += 1\n",
    "            k += 1\n",
    "def selection_sort(arr):\n",
    "    for i in range(len(arr)):\n",
    "        min_idx = i\n",
    "        for j in range(i+1, len(arr)):\n",
    "            if arr[min_idx] > arr[j]:\n",
    "                min_idx = j\n",
    "        arr[i], arr[min_idx] = arr[min_idx], arr[i]\n",
    "\n",
    "conti = \"yes\"\n",
    "arr = input(\"Enter list of numbers: \").split(\" \")\n",
    "int_arr =[]\n",
    "for num in arr:\n",
    "    int_arr.append(int(num))\n",
    "print(int_arr)\n",
    "print(\"Original array is:\", int_arr)\n",
    "while conti.upper() == \"YES\":\n",
    "\n",
    "    sort_type = input(\"Enter sorting algorithm (bubble/mergesort/selection): \")\n",
    "    if sort_type == \"bubble\":\n",
    "        bubble_sort(int_arr)\n",
    "    elif sort_type == \"mergesort\":\n",
    "        merge_sort(int_arr)\n",
    "    elif sort_type == \"selection\":\n",
    "        selection_sort(int_arr)\n",
    "    else:\n",
    "        print(\"Invalid input\")\n",
    "\n",
    "    print(\"Sorted array is:\", int_arr)\n",
    "    conti = input(\"Do you want to continue: \")"
   ]
  },
  {
   "cell_type": "code",
   "execution_count": null,
   "id": "c3e7d5bd",
   "metadata": {},
   "outputs": [],
   "source": []
  }
 ],
 "metadata": {
  "kernelspec": {
   "display_name": "Python 3 (ipykernel)",
   "language": "python",
   "name": "python3"
  },
  "language_info": {
   "codemirror_mode": {
    "name": "ipython",
    "version": 3
   },
   "file_extension": ".py",
   "mimetype": "text/x-python",
   "name": "python",
   "nbconvert_exporter": "python",
   "pygments_lexer": "ipython3",
   "version": "3.9.13"
  }
 },
 "nbformat": 4,
 "nbformat_minor": 5
}
