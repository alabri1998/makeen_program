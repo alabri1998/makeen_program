{
 "cells": [
  {
   "cell_type": "code",
   "execution_count": null,
   "id": "cbb824b1",
   "metadata": {},
   "outputs": [],
   "source": [
    "def square_root(number):\n",
    "    low = 0\n",
    "    high = number\n",
    "    mid = 0\n",
    "\n",
    "    while low <= high:\n",
    "        mid = (low + high) // 2\n",
    "\n",
    "        if mid * mid == number:\n",
    "            return mid\n",
    "        elif mid * mid < number:\n",
    "            low = mid + 1\n",
    "        else:\n",
    "            high = mid - 1\n",
    "\n",
    "    return -1\n",
    "\n",
    "number = int(input('Enter a number: '))\n",
    "print(\"Square root of\", number, \"is\", square_root(number))"
   ]
  },
  {
   "cell_type": "code",
   "execution_count": null,
   "id": "48b0d9c0",
   "metadata": {},
   "outputs": [],
   "source": []
  }
 ],
 "metadata": {
  "kernelspec": {
   "display_name": "Python 3 (ipykernel)",
   "language": "python",
   "name": "python3"
  },
  "language_info": {
   "codemirror_mode": {
    "name": "ipython",
    "version": 3
   },
   "file_extension": ".py",
   "mimetype": "text/x-python",
   "name": "python",
   "nbconvert_exporter": "python",
   "pygments_lexer": "ipython3",
   "version": "3.9.13"
  }
 },
 "nbformat": 4,
 "nbformat_minor": 5
}
